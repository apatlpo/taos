{
 "cells": [
  {
   "cell_type": "markdown",
   "id": "56c64316",
   "metadata": {},
   "source": [
    "# TAOS2 - drifters1 campaign: yuco data"
   ]
  },
  {
   "cell_type": "code",
   "execution_count": null,
   "id": "610b10ff",
   "metadata": {
    "tags": []
   },
   "outputs": [],
   "source": [
    "import os\n",
    "from glob import glob\n",
    "\n",
    "%matplotlib inline\n",
    "import matplotlib.pyplot as plt\n",
    "import cmocean.cm as cm\n",
    "\n",
    "import numpy as np\n",
    "import pandas as pd\n",
    "import xarray as xr\n",
    "import hvplot.pandas  # noqa\n",
    "from scipy import integrate\n",
    "\n",
    "#\n",
    "import pynsitu as pin\n",
    "from pynsitu.maps import crs\n",
    "import taos.sensors as se"
   ]
  },
  {
   "cell_type": "code",
   "execution_count": null,
   "id": "09f29eb7",
   "metadata": {
    "tags": []
   },
   "outputs": [],
   "source": [
    "## taos\n",
    "root_dir = \"/Users/aponte/Current_Projects/taos/campagnes/taos2/\"\n",
    "\n",
    "# taos2-drifters0\n",
    "campaign=\"taos2_drifters1\"\n",
    "yaml = f\"drifters1/{campaign}.yaml\"\n",
    "\n",
    "cp = pin.Campaign(os.path.join(root_dir,yaml))\n",
    "\n",
    "# plot all deployments\n",
    "for label, deployment, platform, sensor, meta in cp.get_all_deployments():\n",
    "    print(label, platform, sensor, deployment)\n",
    "    \n",
    "p = \"yuco\""
   ]
  },
  {
   "cell_type": "markdown",
   "id": "03a6bf45",
   "metadata": {},
   "source": [
    "---\n",
    "\n",
    "## yuco\n"
   ]
  },
  {
   "cell_type": "code",
   "execution_count": null,
   "id": "773f0b5c-e5ee-493c-b131-bd111755a0e1",
   "metadata": {
    "tags": []
   },
   "outputs": [],
   "source": [
    "def read_yuco_csv(file):\n",
    "\n",
    "    df = pd.read_csv(file)\n",
    "    print(df.columns)\n",
    "\n",
    "    new_col_names = [\n",
    "        \"timestamp\", \"time_seconds\", \"status\", \"surface_flag\", \n",
    "         \"latitude_ins\", \"longitude_ins\", \n",
    "         \"gps_flag\", \"latitude_gps\", \"longitude_gps\", \n",
    "         \"dvl_flag\", \"x_velocity\", \"y_velocity\", \"z_velocity\", \"depth\",\n",
    "         \"altitude\", \"roll\", \"pitch\", \"yaw\",\n",
    "         \"pressure_internal\", \"temperature_internal\",\n",
    "         \"pressure_external\", \"temperature_external\",\n",
    "         \"pressure_atmospheric\", \"battery\",\n",
    "         \"legato_timestamp\", \"legato_time_seconds\", \"legato_count\",\n",
    "         \"legato_conductivity\", \"legato_salinity\", \"legato_temperature_conductivity_cell\",\n",
    "         \"legato_temperature\", \"legato_pressure\",\n",
    "         \"legato_sea_pressure\", \"legato_depth\",\n",
    "         \"legato_oxygen_concentration\", \"legato_ODO_temperature\", \"legato_ODO_phase\", \n",
    "         \"legato_turbidity\", \"legato_cholorophyll\",\n",
    "    ]\n",
    "\n",
    "    df = df.rename(columns={p: n for p, n in zip(df.columns, new_col_names)})\n",
    "\n",
    "    # process timestamps:\n",
    "    df[\"time\"] = pd.to_datetime(df['timestamp'],unit='s')\n",
    "    df[\"legato_time\"] = pd.to_datetime(df['legato_timestamp'],unit='s')\n",
    "    df = df.set_index(\"time\")    \n",
    "\n",
    "    # turn flags into booleans\n",
    "    df = df.replace({c: {'Y': 1, 'N': 0} for c in [\"surface_flag\", \"gps_flag\", \"dvl_flag\"]})\n",
    "    \n",
    "    # turn bad values into NaNs\n",
    "    for c in [\"longitude_ins\", \"latitude_ins\", \"longitude_gps\", \"latitude_gps\"]:\n",
    "        df.loc[:, c] = df.loc[:, c].replace(0,np.NaN)\n",
    "    \n",
    "    # rescale pressure in dbar, pressure is likely already in dbar\n",
    "    #df[\"legato_pressure\"] = df.loc[:, \"legato_pressure\"]*10\n",
    "    #df[\"legato_sea_pressure\"] = df.loc[:, \"legato_sea_pressure\"]*10\n",
    "    \n",
    "    # fix conductivity and pressure values which should be positive\n",
    "    df[\"legato_conductivity\"] =  df[\"legato_conductivity\"].where(df.legato_conductivity>0)\n",
    "    df[\"legato_sea_pressure\"] = df[\"legato_sea_pressure\"] - df[\"legato_sea_pressure\"].min()\n",
    "    \n",
    "    # add total velocity\n",
    "    df[\"h_velocity\"] = np.sqrt(df.loc[:,\"x_velocity\"]**2 + df.loc[:,\"y_velocity\"]**2)\n",
    "    df[\"r\"] = integrate.cumulative_trapezoid(df.loc[:,\"x_velocity\"], x=df[\"time_seconds\"], initial=0.)\n",
    "    \n",
    "    # select valid legato lines\n",
    "    #dfl = df.loc[~pd.isna(df.loc[:,\"legato_temperature\"])]\n",
    "    dfl = df.loc[~pd.isna(df[\"legato_temperature\"]) & ~pd.isna(df[\"legato_conductivity\"])]\n",
    "    \n",
    "    #legato_columns = [c for c in df.columns if \"legato\" in c]\n",
    "    #df_legato = df.loc[:, legato_columns]\n",
    "    \n",
    "    # add columns to be compatible with pynsitu.seawater accessor\n",
    "    dfl[\"temperature\"] = dfl.loc[:,\"legato_temperature\"]\n",
    "    dfl[\"pressure\"] = dfl.loc[:,\"legato_sea_pressure\"]\n",
    "    dfl[\"conductivity\"] = dfl.loc[:,\"legato_conductivity\"]\n",
    "    #dfl[\"longitude\"] = dfl.loc[:,\"longitude_ins\"].fillna(dfl[\"longitude_ins\"].median())\n",
    "    #dfl[\"latitude\"] = dfl.loc[:,\"latitude_ins\"].fillna(dfl[\"latitude_ins\"].median())\n",
    "    dfl[\"longitude\"] = dfl[\"longitude_ins\"].interpolate(limit_direction=\"both\")\n",
    "    dfl[\"latitude\"] = dfl[\"latitude_ins\"].interpolate(limit_direction=\"both\")\n",
    "    \n",
    "    dfl.sw.update_eos()\n",
    "\n",
    "    # select only valid values\n",
    "    dfl = dfl.loc[~pd.isna(dfl[\"temperature\"]) & ~pd.isna(dfl[\"salinity\"])]\n",
    "    \n",
    "    return df, dfl\n",
    "\n",
    "observed_variables = [\"temperature\", \"legato_temperature\", 'CT',\n",
    "                      \"conductivity\", \"legato_conductivity\", \n",
    "                      \"salinity\", 'legato_salinity', 'SA',\n",
    "                      'sigma0',\n",
    "                      'legato_oxygen_concentration', 'legato_ODO_temperature', 'legato_ODO_phase',\n",
    "                      'legato_cholorophyll', \n",
    "                     ]"
   ]
  },
  {
   "cell_type": "markdown",
   "id": "8081cccc-4f1f-456d-8529-7dde8add8c9f",
   "metadata": {},
   "source": [
    "### manually find deployment time intervals"
   ]
  },
  {
   "cell_type": "code",
   "execution_count": null,
   "id": "e6cbf44a-4201-4378-aea1-3dbf5db02123",
   "metadata": {
    "tags": []
   },
   "outputs": [],
   "source": [
    "# browse deployments\n",
    "run_dirs = sorted(glob(os.path.join(cp[\"path_raw\"], \"yuco/exports/YUCO-000D800D/*\")))\n",
    "runs = [r.split(\"/\")[-1] for r in run_dirs]\n",
    "run_files = {r:glob(os.path.join(d, \"*.csv\"))[0] for r, d in zip(runs, run_dirs)}"
   ]
  },
  {
   "cell_type": "code",
   "execution_count": null,
   "id": "828d2d4b-69ae-4086-890b-48fb10106519",
   "metadata": {
    "tags": []
   },
   "outputs": [],
   "source": [
    "i = 4 # 0 to 9\n",
    "# 2 is not an actual run\n",
    "\n",
    "r = runs[i]\n",
    "print(r)\n",
    "\n",
    "deployments = [\"d0\", \"d1\", None, \"d2\", \"d3\", \"c4\", \"c5\", \"c6\", \"c7\", \"c8\"]\n",
    "d = deployments[i]\n",
    "\n",
    "assert r==cp[p][d][\"label\"], \"mismatch with yaml campaign file\"\n",
    "\n",
    "# load data\n",
    "df, dfl = read_yuco_csv(run_files[r])"
   ]
  },
  {
   "cell_type": "markdown",
   "id": "0415e07f-8ab6-4539-b31d-1b039635dba5",
   "metadata": {},
   "source": [
    "### refine deployment times\n",
    "\n"
   ]
  },
  {
   "cell_type": "code",
   "execution_count": null,
   "id": "9ce4cf4e-4e7b-4aaf-ac23-cdff717c4ccb",
   "metadata": {
    "tags": []
   },
   "outputs": [],
   "source": [
    "# search for deployment times\n",
    "_df = df.rename(columns=dict(longitude_ins=\"lon\", latitude_ins=\"lat\"))\n",
    "_df.geo.plot_bokeh()"
   ]
  },
  {
   "cell_type": "code",
   "execution_count": null,
   "id": "33681e1c-1ae4-4fe7-817a-4cb60c1f13e8",
   "metadata": {
    "tags": []
   },
   "outputs": [],
   "source": [
    "(_df[\"legato_depth\"].ffill().hvplot()\n",
    " +_df[\"legato_temperature\"].ffill().hvplot()\n",
    " +_df[\"legato_conductivity\"].ffill().hvplot()\n",
    ").cols(1)"
   ]
  },
  {
   "cell_type": "markdown",
   "id": "b26a335e-6542-406c-92da-ef9abe219e18",
   "metadata": {},
   "source": [
    "### identify surfacings and transects"
   ]
  },
  {
   "cell_type": "code",
   "execution_count": null,
   "id": "0fa17470-5464-4fe2-be6f-52d3dfd8920e",
   "metadata": {
    "tags": []
   },
   "outputs": [],
   "source": [
    "### split into seperate transects\n",
    "\n",
    "# use conductivity to detect surfacings\n",
    "\n",
    "# early parts of casts / spirals seems to be contaminated (conductivity)\n",
    "# upcasts should be selected\n",
    "\n",
    "T = dict(d0=[slice(\"2023/06/12 14:58:10\", \"2023/06/12 15:17:50\"),\n",
    "             slice(\"2023/06/12 15:17:50\", \"2023/06/12 15:18:30\"), # @surface\n",
    "             slice(\"2023/06/12 15:18:30\", \"2023/06/12 15:35:02\"),\n",
    "            ],\n",
    "         d1=[slice(\"2023/06/12 15:50:45\", \"2023/06/12 16:09:04\"),\n",
    "            ],\n",
    "         d2=[slice(\"2023/06/12 16:49:20\", \"2023/06/12 17:05:48\"),\n",
    "             slice(\"2023/06/12 17:05:48\", \"2023/06/12 17:06:25\"), # @surface\n",
    "             slice(\"2023/06/12 17:06:25\", \"2023/06/12 17:24:44\"),\n",
    "            ],\n",
    "         d3=[slice(\"2023/06/12 17:45:36\", \"2023/06/12 18:01:15\"),\n",
    "             slice(\"2023/06/12 18:01:15\", \"2023/06/12 18:01:55\"), # @surface\n",
    "             slice(\"2023/06/12 18:01:55\", \"2023/06/12 18:21:38\"),\n",
    "            ],\n",
    "         c4=[slice(\"2023/06/13 09:20:37\", \"2023/06/13 09:23:46\"), # full CTD cast\n",
    "            ],\n",
    "         c5=[slice(\"2023/06/13 09:59:53\", \"2023/06/13 10:02:48\"), # full CTD cast\n",
    "            ],\n",
    "         c6=[slice(\"2023/06/13 10:07:14\", \"2023/06/13 11:08:33\"), # full CTD cast\n",
    "            ],\n",
    "         c7=[slice(\"2023/06/13 12:38:15\", \"2023/06/13 12:38:45\"), # full CTD cast\n",
    "            ],\n",
    "         c8=[slice(\"2023/06/13 13:40:52\", \"2023/06/13 13:41:58\"), # full CTD cast\n",
    "            ],\n",
    "        )"
   ]
  },
  {
   "cell_type": "code",
   "execution_count": null,
   "id": "329812dc-aef4-4a97-8fbd-e057c6091973",
   "metadata": {
    "tags": []
   },
   "outputs": [],
   "source": [
    "#dfl[\"x_velocity\"].hvplot()"
   ]
  },
  {
   "cell_type": "markdown",
   "id": "9f03aedc-00a0-493e-a927-acc8747d74a8",
   "metadata": {},
   "source": [
    "### trim data"
   ]
  },
  {
   "cell_type": "code",
   "execution_count": null,
   "id": "b8545689-00d6-4d44-8c97-0e63f6fb76f7",
   "metadata": {
    "tags": []
   },
   "outputs": [],
   "source": [
    "# trim with yaml information\n",
    "df = df.ts.trim(cp[p][d])\n",
    "dfl = dfl.ts.trim(cp[p][d])"
   ]
  },
  {
   "cell_type": "code",
   "execution_count": null,
   "id": "bb1057b3-bed6-4c40-8a6a-bee84f9a47a9",
   "metadata": {
    "tags": []
   },
   "outputs": [],
   "source": [
    "dtl = (dfl.reset_index()[\"time\"].diff().dropna()/pd.Timedelta(\"1s\")).median()\n",
    "print(f\"Averaged time sampling = {dtl:.2f} s\")"
   ]
  },
  {
   "cell_type": "code",
   "execution_count": null,
   "id": "845417c0-8c5b-4f53-ad57-13325372b268",
   "metadata": {
    "tags": []
   },
   "outputs": [],
   "source": [
    "# inspect velocity and depth\n",
    "\n",
    "fig, axes = plt.subplots(2,1)\n",
    "\n",
    "ax = axes[0]\n",
    "dfl[\"h_velocity\"].plot(ax=ax, label=\"velocity\")\n",
    "dfl[\"x_velocity\"].plot(ax=ax, label=\"x - velocity\")\n",
    "dfl[\"y_velocity\"].plot(ax=ax, label=\"y - velocity\")\n",
    "ax.legend()\n",
    "ax.grid()\n",
    "ax.set_xticklabels(\"\")\n",
    "\n",
    "ax = axes[1]\n",
    "dfl[\"legato_depth\"].plot(ax=ax, label=\"depth\")\n",
    "ax.grid()\n",
    "ax.legend()"
   ]
  },
  {
   "cell_type": "code",
   "execution_count": null,
   "id": "ee9f5b28-785b-4880-994b-864c3aad4292",
   "metadata": {
    "tags": []
   },
   "outputs": [],
   "source": [
    "def plot_on_map(df):\n",
    "    #_df = df.rename(columns=dict(longitude_ins=\"longitude\", latitude_ins=\"latitude\"))\n",
    "    _df = df.copy()\n",
    "    lon_ref, lat_ref = cp[\"bounds\"][0], cp[\"bounds\"][2]\n",
    "    _df.geo.set_projection_reference((lon_ref, lat_ref))\n",
    "    _df.geo.compute_velocities(inplace=True)\n",
    "    _df.geo.compute_accelerations(inplace=True)\n",
    "    return _df.geo.plot_on_map(s=10, c=\"velocity\", clim=(0,5), cmap=\"magma\")\n",
    "\n",
    "phv, coords = plot_on_map(dfl)\n",
    "phv"
   ]
  },
  {
   "cell_type": "markdown",
   "id": "df6cc929-2030-44f7-a4ef-0bdd554b0b3c",
   "metadata": {},
   "source": [
    "### low pass filter and plot as a function of distance"
   ]
  },
  {
   "cell_type": "code",
   "execution_count": null,
   "id": "d128cdab-7175-4c6b-b081-75d80f2ed29b",
   "metadata": {
    "tags": []
   },
   "outputs": [],
   "source": [
    "if d[0]==\"d\":\n",
    "    rule = \"5s\"\n",
    "    # mask surface points\n",
    "    _df = dfl.copy()\n",
    "    for v in observed_variables:\n",
    "        _df.loc[:, v] = _df.loc[:, v].where(_df.depth>0.5)\n",
    "    dfl_low = (_df\n",
    "               .drop(columns=\"status\")\n",
    "               .resample(rule)\n",
    "               .mean()\n",
    "               .reset_index()\n",
    "               .set_index(\"r\")\n",
    "    )    \n",
    "elif d[0]==\"c\":\n",
    "    #rule = \"1s\"\n",
    "    dfl_low = dfl\n",
    "    \n",
    "# should treat cast particulary\n",
    "# early parts of casts / spirals seems to be contaminated (conductivity)\n",
    "# upcasts should be selected\n"
   ]
  },
  {
   "cell_type": "code",
   "execution_count": null,
   "id": "bde093fc-71d9-4c79-9256-91a84cef7046",
   "metadata": {},
   "outputs": [],
   "source": []
  },
  {
   "cell_type": "code",
   "execution_count": null,
   "id": "3cad14ae-e4ed-4c5d-b135-4a42c68cf740",
   "metadata": {
    "tags": []
   },
   "outputs": [],
   "source": [
    "fig, axes = plt.subplots(4,1, figsize=(10,10))\n",
    "\n",
    "ax = axes[0]\n",
    "dfl.set_index(\"r\")[\"temperature\"].plot(ax=ax, label=\"raw\")\n",
    "dfl_low[\"temperature\"].plot(ax=ax, label=\"temperature\")\n",
    "ax.grid()\n",
    "ax.set_xlabel(\"\")\n",
    "ax.set_xticklabels(\"\")\n",
    "ax.set_ylabel(\"[degC]\")\n",
    "ax.legend()\n",
    "\n",
    "ax = axes[1]\n",
    "dfl.set_index(\"r\")[\"salinity\"].plot(ax=ax, label=\"raw\")\n",
    "dfl_low[\"salinity\"].plot(ax=ax, label=\"salinity\")\n",
    "dfl_low[\"legato_salinity\"].plot(ax=ax, label=\"legato_salinity\")\n",
    "ax.grid()\n",
    "ax.set_xlabel(\"\")\n",
    "ax.set_xticklabels(\"\")\n",
    "ax.set_ylabel(\"[psu]\")\n",
    "ax.legend()\n",
    "\n",
    "ax = axes[2]\n",
    "dfl.set_index(\"r\")[\"sigma0\"].plot(ax=ax, label=\"raw\")\n",
    "dfl_low[\"sigma0\"].plot(ax=ax, label=\"sigma0\")\n",
    "#dfl_low[\"legato_salinity\"].plot(ax=ax, label=\"legato_salinity [psu]\")\n",
    "ax.grid()\n",
    "ax.set_xlabel(\"r [m]\")\n",
    "ax.set_ylabel(\"[kg/m^3]\")\n",
    "ax.legend()\n",
    "\n",
    "\n",
    "ax = axes[3]\n",
    "dfl_low[\"depth\"].plot(ax=ax, label=\"depth\")\n",
    "ax.grid()\n",
    "ax.set_xlabel(\"\")\n",
    "ax.set_xticklabels(\"\")\n",
    "ax.set_ylabel(\"[m]\")\n",
    "ax.legend()\n"
   ]
  },
  {
   "cell_type": "code",
   "execution_count": null,
   "id": "f0527f5b-0a6d-481c-8bea-62d0f97e6129",
   "metadata": {
    "tags": []
   },
   "outputs": [],
   "source": [
    "# do not execute for casts\n",
    "if d[0]!=\"c\":\n",
    "\n",
    "    phv, coords = plot_on_map(dfl_low.set_index(\"time\"))\n",
    "    \n",
    "    dfl_low.loc[:, \"transect\"] = 0\n",
    "    _t = dfl_low.loc[:,\"time\"]\n",
    "    for i, t in enumerate(T[d]):\n",
    "        dfl_low.loc[ _t>t.start ,  \"transect\"] = i\n",
    "    phv"
   ]
  },
  {
   "cell_type": "code",
   "execution_count": null,
   "id": "5d4d7c8e-666d-41fb-90e6-fe23d18a8014",
   "metadata": {
    "tags": []
   },
   "outputs": [],
   "source": [
    "fig, axes = plt.subplots(3,1,)\n",
    "\n",
    "ax = axes[0]\n",
    "for t in dfl_low.transect.unique():\n",
    "    dfl_low.loc[dfl_low.transect==t][\"temperature\"].plot(ax=ax, label=str(int(t)))\n",
    "ax.grid()\n",
    "ax.set_xlabel(\"\")\n",
    "ax.set_xticklabels(\"\")\n",
    "ax.set_ylabel(\"[degC]\")\n",
    "ax.legend()\n",
    "\n",
    "ax = axes[1]\n",
    "for t in dfl_low.transect.unique():\n",
    "    dfl_low.loc[dfl_low.transect==t][\"salinity\"].plot(ax=ax, label=str(int(t)))\n",
    "#dfl_low[\"salinity\"].plot(ax=ax, label=\"salinity\")\n",
    "#dfl_low[\"legato_salinity\"].plot(ax=ax, label=\"legato_salinity\")\n",
    "ax.grid()\n",
    "ax.set_xlabel(\"\")\n",
    "ax.set_xticklabels(\"\")\n",
    "ax.set_ylabel(\"[psu]\")\n",
    "ax.legend()\n",
    "\n",
    "ax = axes[2]\n",
    "for t in dfl_low.transect.unique():\n",
    "    dfl_low.loc[dfl_low.transect==t][\"sigma0\"].plot(ax=ax, label=str(int(t)))\n",
    "#dfl_low[\"sigma0\"].plot(ax=ax, label=\"sigma0\")\n",
    "#dfl_low[\"legato_salinity\"].plot(ax=ax, label=\"legato_salinity [psu]\")\n",
    "ax.grid()\n",
    "ax.set_xlabel(\"r [m]\")\n",
    "ax.set_ylabel(\"[kg/m^3]\")\n",
    "ax.legend()\n"
   ]
  },
  {
   "cell_type": "code",
   "execution_count": null,
   "id": "6c119feb",
   "metadata": {
    "tags": []
   },
   "outputs": [],
   "source": [
    "_df = dfl_low\n",
    "_df.to_xarray().to_netcdf(os.path.join(cp[\"path_processed\"], f'{p}_{d}.nc'), mode=\"w\")"
   ]
  },
  {
   "cell_type": "code",
   "execution_count": null,
   "id": "f614bca9-5382-4744-ba60-eb6c41079368",
   "metadata": {},
   "outputs": [],
   "source": []
  },
  {
   "cell_type": "code",
   "execution_count": null,
   "id": "34be3757-b4d0-418a-b13a-1f2fb4173214",
   "metadata": {},
   "outputs": [],
   "source": []
  }
 ],
 "metadata": {
  "kernelspec": {
   "display_name": "Python 3 (ipykernel)",
   "language": "python",
   "name": "python3"
  },
  "language_info": {
   "codemirror_mode": {
    "name": "ipython",
    "version": 3
   },
   "file_extension": ".py",
   "mimetype": "text/x-python",
   "name": "python",
   "nbconvert_exporter": "python",
   "pygments_lexer": "ipython3",
   "version": "3.10.11"
  }
 },
 "nbformat": 4,
 "nbformat_minor": 5
}
