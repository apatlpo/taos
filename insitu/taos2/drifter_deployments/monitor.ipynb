{
 "cells": [
  {
   "cell_type": "markdown",
   "id": "e0cdff58",
   "metadata": {},
   "source": [
    "# TAOS drifter deployments: monitoring\n",
    "\n",
    "[PacificGyre website](https://www.pacificgyre.com)"
   ]
  },
  {
   "cell_type": "code",
   "execution_count": 1,
   "id": "3d1159e7",
   "metadata": {},
   "outputs": [],
   "source": [
    "import taos.insitu as ins"
   ]
  },
  {
   "cell_type": "markdown",
   "id": "03e2c814-7e1c-461b-aa07-18e655e93765",
   "metadata": {},
   "source": [
    "---\n",
    "## manual downloading and position report"
   ]
  },
  {
   "cell_type": "code",
   "execution_count": 12,
   "id": "d2d4573e-54ab-4b83-a44c-d8f303775be7",
   "metadata": {},
   "outputs": [
    {
     "name": "stdout",
     "output_type": "stream",
     "text": [
      " Drifter data downloaded as drifter_data_20230612_161535.csv\n"
     ]
    },
    {
     "data": {
      "text/plain": [
       "'drifter_data_20230612_161535.csv'"
      ]
     },
     "execution_count": 12,
     "metadata": {},
     "output_type": "execute_result"
    }
   ],
   "source": [
    "# fetch data from website\n",
    "ins.fetch_drifter_data()"
   ]
  },
  {
   "cell_type": "code",
   "execution_count": 13,
   "id": "bae72147-ba10-4194-b0bb-5ce934c0fd2e",
   "metadata": {},
   "outputs": [],
   "source": [
    "# load all data\n",
    "dr = ins.load_drifter_data()"
   ]
  },
  {
   "cell_type": "code",
   "execution_count": 14,
   "id": "dfc1be45-1787-4732-82d1-5a0ba09db6cf",
   "metadata": {},
   "outputs": [],
   "source": [
    "#dr['0-4351904'].loc[\"2023-06-12 16:09:24\"]"
   ]
  },
  {
   "cell_type": "code",
   "execution_count": 15,
   "id": "df59ce1d-fdcf-4ab0-8be4-c8723b763a65",
   "metadata": {},
   "outputs": [],
   "source": [
    "# extrapolate to now\n",
    "dr_now = ins.extrapolate(dr)"
   ]
  },
  {
   "cell_type": "code",
   "execution_count": 16,
   "id": "7e7bb073",
   "metadata": {},
   "outputs": [
    {
     "name": "stdout",
     "output_type": "stream",
     "text": [
      " drifter 0-4351904: -0.0W 14.644  49.0N 20.102  speed=(0.18, -0.35) at 2023/06/12 16:14:37\n",
      " drifter 0-4388554: 8.0E 12.880  41.0N 23.035  speed=(nan, nan) at 2023/06/12 02:54:28\n",
      " drifter 0-4367707: 5.0E 1.100  39.0N 44.675  speed=(0.14, -0.08) at 2023/06/12 16:13:31\n",
      " drifter 0-4356456: 9.0E 47.719  41.0N 43.779  speed=(0.23, -0.18) at 2023/06/12 16:08:59\n"
     ]
    }
   ],
   "source": [
    "zoom = [-.4, -.1, 49.27, 49.4]\n",
    "zoom = [-.5, -.1, 49.27, 49.45]\n",
    "ins.show_last_positions(dr, dr_now, zoom=zoom, offset=\"2h\")"
   ]
  },
  {
   "cell_type": "markdown",
   "id": "2ed66bdd-da06-4537-84d4-5688803b9034",
   "metadata": {},
   "source": [
    "---\n",
    "### automatic monitoring"
   ]
  },
  {
   "cell_type": "code",
   "execution_count": 5,
   "id": "787f63d3-5615-455a-93a0-9e2d3790e824",
   "metadata": {},
   "outputs": [],
   "source": [
    "#%matplotlib inline"
   ]
  },
  {
   "cell_type": "code",
   "execution_count": 6,
   "id": "3ea48498-ba35-4afc-9fd8-1b032a0f66c3",
   "metadata": {},
   "outputs": [],
   "source": [
    "#ins.monitor_drifters(refresh_time=5/60)"
   ]
  },
  {
   "cell_type": "code",
   "execution_count": null,
   "id": "d964115d-c1d6-443d-8b45-465aa55852a6",
   "metadata": {},
   "outputs": [],
   "source": []
  }
 ],
 "metadata": {
  "kernelspec": {
   "display_name": "Python 3 (ipykernel)",
   "language": "python",
   "name": "python3"
  },
  "language_info": {
   "codemirror_mode": {
    "name": "ipython",
    "version": 3
   },
   "file_extension": ".py",
   "mimetype": "text/x-python",
   "name": "python",
   "nbconvert_exporter": "python",
   "pygments_lexer": "ipython3",
   "version": "3.10.8"
  }
 },
 "nbformat": 4,
 "nbformat_minor": 5
}
