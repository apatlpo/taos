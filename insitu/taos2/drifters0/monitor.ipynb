{
 "cells": [
  {
   "cell_type": "markdown",
   "id": "e0cdff58",
   "metadata": {},
   "source": [
    "# TAOS drifter deployments: monitoring\n",
    "\n",
    "[PacificGyre website](https://www.pacificgyre.com)"
   ]
  },
  {
   "cell_type": "code",
   "execution_count": 1,
   "id": "3d1159e7",
   "metadata": {},
   "outputs": [],
   "source": [
    "import taos.insitu as ins"
   ]
  },
  {
   "cell_type": "markdown",
   "id": "03e2c814-7e1c-461b-aa07-18e655e93765",
   "metadata": {},
   "source": [
    "---\n",
    "## manual downloading and position report"
   ]
  },
  {
   "cell_type": "code",
   "execution_count": 2,
   "id": "d2d4573e-54ab-4b83-a44c-d8f303775be7",
   "metadata": {},
   "outputs": [
    {
     "name": "stdout",
     "output_type": "stream",
     "text": [
      " Drifter data downloaded as drifter_data_20230505_081108.csv\n"
     ]
    },
    {
     "data": {
      "text/plain": [
       "'drifter_data_20230505_081108.csv'"
      ]
     },
     "execution_count": 2,
     "metadata": {},
     "output_type": "execute_result"
    }
   ],
   "source": [
    "# fetch data from website\n",
    "ins.fetch_drifter_data()"
   ]
  },
  {
   "cell_type": "code",
   "execution_count": 3,
   "id": "df59ce1d-fdcf-4ab0-8be4-c8723b763a65",
   "metadata": {},
   "outputs": [],
   "source": [
    "# load all data\n",
    "dr = ins.load_drifter_data()\n",
    "# extrapolate to now\n",
    "dr_now = ins.extrapolate(dr)"
   ]
  },
  {
   "cell_type": "code",
   "execution_count": 4,
   "id": "7e7bb073",
   "metadata": {},
   "outputs": [
    {
     "name": "stdout",
     "output_type": "stream",
     "text": [
      " drifter 0-4388605: 5.0E 30.087  39.0N 42.768  speed=(0.47, 0.23) at 2023/05/05 08:08:40\n",
      " drifter 0-4351906: 4.0E 12.360  42.0N 30.259  speed=(-0.40, -0.04) at 2023/05/05 08:04:48\n",
      " drifter 0-4388599: 8.0E 10.063  38.0N 19.107  speed=(-0.02, 0.04) at 2023/05/05 08:06:11\n",
      " drifter 0-4351904: -0.0W 14.314  49.0N 20.233  speed=(0.37, -0.12) at 2023/05/05 08:08:11\n",
      " drifter 0-4367707: 4.0E 56.704  42.0N 33.950  speed=(-0.11, -0.11) at 2023/05/05 06:50:29\n",
      " drifter 0-4388608: 6.0E 24.047  40.0N 5.462  speed=(0.10, 0.09) at 2023/05/05 08:08:15\n",
      " drifter 0-4367706: 5.0E 17.888  41.0N 23.659  speed=(-0.09, 0.11) at 2023/05/05 06:49:36\n",
      " drifter 0-4356534: 7.0E 56.206  43.0N 10.730  speed=(0.31, -0.16) at 2023/05/05 08:05:58\n",
      " drifter 0-4388635: 4.0E 23.453  40.0N 28.514  speed=(0.07, 0.00) at 2023/05/05 08:06:52\n",
      " drifter 0-4388557: 8.0E 47.496  41.0N 17.842  speed=(0.01, -0.06) at 2023/05/05 07:42:05\n",
      " drifter 0-4388554: 8.0E 1.770  41.0N 22.049  speed=(0.12, 0.08) at 2023/05/05 08:06:19\n",
      " drifter 0-4388627: 6.0E 28.245  40.0N 0.487  speed=(0.28, -0.02) at 2023/05/05 08:07:52\n",
      " drifter 0-4367310: 4.0E 4.675  42.0N 32.059  speed=(-0.22, -0.38) at 2023/05/05 08:07:47\n",
      " drifter 0-4388581: 7.0E 5.632  40.0N 52.510  speed=(0.24, -0.01) at 2023/05/05 08:06:35\n",
      " drifter 0-4356456: 7.0E 57.267  42.0N 33.085  speed=(0.36, 0.19) at 2023/05/05 07:47:46\n"
     ]
    }
   ],
   "source": [
    "zoom = [-.4, -.1, 49.27, 49.4]\n",
    "zoom = [-.5, -.1, 49.27, 49.45]\n",
    "ins.show_last_positions(dr, dr_now, zoom=zoom, offset=\"2h\")"
   ]
  },
  {
   "cell_type": "markdown",
   "id": "2ed66bdd-da06-4537-84d4-5688803b9034",
   "metadata": {},
   "source": [
    "---\n",
    "### automatic monitoring"
   ]
  },
  {
   "cell_type": "code",
   "execution_count": 5,
   "id": "787f63d3-5615-455a-93a0-9e2d3790e824",
   "metadata": {},
   "outputs": [],
   "source": [
    "#%matplotlib inline"
   ]
  },
  {
   "cell_type": "code",
   "execution_count": 6,
   "id": "3ea48498-ba35-4afc-9fd8-1b032a0f66c3",
   "metadata": {},
   "outputs": [],
   "source": [
    "#ins.monitor_drifters(refresh_time=5/60)"
   ]
  },
  {
   "cell_type": "code",
   "execution_count": null,
   "id": "d964115d-c1d6-443d-8b45-465aa55852a6",
   "metadata": {},
   "outputs": [],
   "source": []
  }
 ],
 "metadata": {
  "kernelspec": {
   "display_name": "Python 3 (ipykernel)",
   "language": "python",
   "name": "python3"
  },
  "language_info": {
   "codemirror_mode": {
    "name": "ipython",
    "version": 3
   },
   "file_extension": ".py",
   "mimetype": "text/x-python",
   "name": "python",
   "nbconvert_exporter": "python",
   "pygments_lexer": "ipython3",
   "version": "3.8.13"
  }
 },
 "nbformat": 4,
 "nbformat_minor": 5
}
