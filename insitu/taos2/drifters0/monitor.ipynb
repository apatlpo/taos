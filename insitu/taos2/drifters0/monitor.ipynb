{
 "cells": [
  {
   "cell_type": "markdown",
   "id": "e0cdff58",
   "metadata": {},
   "source": [
    "# TAOS drifter deployments: monitoring\n",
    "\n",
    "[PacificGyre website](https://www.pacificgyre.com)"
   ]
  },
  {
   "cell_type": "code",
   "execution_count": 1,
   "id": "3d1159e7",
   "metadata": {},
   "outputs": [],
   "source": [
    "import taos.insitu as ins"
   ]
  },
  {
   "cell_type": "markdown",
   "id": "03e2c814-7e1c-461b-aa07-18e655e93765",
   "metadata": {},
   "source": [
    "---\n",
    "## manual downloading and position report"
   ]
  },
  {
   "cell_type": "code",
   "execution_count": 2,
   "id": "d2d4573e-54ab-4b83-a44c-d8f303775be7",
   "metadata": {},
   "outputs": [
    {
     "name": "stdout",
     "output_type": "stream",
     "text": [
      " Drifter data downloaded as drifter_data_20230504_220146.csv\n"
     ]
    },
    {
     "data": {
      "text/plain": [
       "'drifter_data_20230504_220146.csv'"
      ]
     },
     "execution_count": 2,
     "metadata": {},
     "output_type": "execute_result"
    }
   ],
   "source": [
    "# fetch data from website\n",
    "ins.fetch_drifter_data()"
   ]
  },
  {
   "cell_type": "code",
   "execution_count": 3,
   "id": "df59ce1d-fdcf-4ab0-8be4-c8723b763a65",
   "metadata": {},
   "outputs": [],
   "source": [
    "# load all data\n",
    "dr = ins.load_drifter_data()\n",
    "# extrapolate to now\n",
    "dr_now = ins.extrapolate(dr)"
   ]
  },
  {
   "cell_type": "code",
   "execution_count": 4,
   "id": "7e7bb073",
   "metadata": {},
   "outputs": [
    {
     "name": "stdout",
     "output_type": "stream",
     "text": [
      " drifter 0-4388557: 8.0E 48.123  41.0N 18.396  speed=(-0.01, -0.24) at 2023/05/04 21:56:18\n",
      " drifter 0-4356534: 7.0E 49.256  43.0N 8.726  speed=(-0.04, 0.10) at 2023/05/04 21:55:54\n",
      " drifter 0-4356456: 7.0E 54.378  42.0N 31.544  speed=(0.01, -0.12) at 2023/05/04 21:57:45\n",
      " drifter 0-4388599: 8.0E 14.830  38.0N 19.243  speed=(-0.21, -0.07) at 2023/05/04 21:55:20\n",
      " drifter 0-4388608: 6.0E 23.373  40.0N 3.273  speed=(0.05, 0.08) at 2023/05/04 21:57:35\n",
      " drifter 0-4388635: 4.0E 21.441  40.0N 26.623  speed=(-0.03, 0.07) at 2023/05/04 21:55:59\n",
      " drifter 0-4388627: 6.0E 21.042  39.0N 59.534  speed=(0.26, -0.01) at 2023/05/04 21:56:48\n",
      " drifter 0-4367706: 5.0E 17.441  41.0N 20.223  speed=(-0.14, 0.04) at 2023/05/04 21:39:33\n",
      " drifter 0-4388554: 8.0E 1.818  41.0N 20.912  speed=(-0.05, -0.05) at 2023/05/04 21:55:36\n",
      " drifter 0-4367310: 4.0E 9.859  42.0N 33.884  speed=(-0.27, -0.14) at 2023/05/04 21:57:46\n",
      " drifter 0-4351906: 4.0E 14.769  42.0N 32.067  speed=(-0.09, -0.02) at 2023/05/04 21:59:42\n",
      " drifter 0-4388581: 7.0E 2.154  40.0N 51.182  speed=(0.05, 0.00) at 2023/05/04 21:55:51\n",
      " drifter 0-4388605: 5.0E 22.842  39.0N 39.631  speed=(0.16, -0.05) at 2023/05/04 21:57:42\n",
      " drifter 0-4367707: 4.0E 54.683  42.0N 33.607  speed=(0.05, 0.30) at 2023/05/04 21:55:27\n"
     ]
    }
   ],
   "source": [
    "zoom = [-.4, -.1, 49.27, 49.4]\n",
    "zoom = [-.5, -.1, 49.27, 49.45]\n",
    "ins.show_last_positions(dr, dr_now, zoom=zoom, offset=\"2h\")"
   ]
  },
  {
   "cell_type": "markdown",
   "id": "2ed66bdd-da06-4537-84d4-5688803b9034",
   "metadata": {},
   "source": [
    "---\n",
    "### automatic monitoring"
   ]
  },
  {
   "cell_type": "code",
   "execution_count": 5,
   "id": "787f63d3-5615-455a-93a0-9e2d3790e824",
   "metadata": {},
   "outputs": [],
   "source": [
    "#%matplotlib inline"
   ]
  },
  {
   "cell_type": "code",
   "execution_count": 6,
   "id": "3ea48498-ba35-4afc-9fd8-1b032a0f66c3",
   "metadata": {},
   "outputs": [],
   "source": [
    "#ins.monitor_drifters(refresh_time=5/60)"
   ]
  },
  {
   "cell_type": "code",
   "execution_count": null,
   "id": "d964115d-c1d6-443d-8b45-465aa55852a6",
   "metadata": {},
   "outputs": [],
   "source": []
  }
 ],
 "metadata": {
  "kernelspec": {
   "display_name": "Python 3 (ipykernel)",
   "language": "python",
   "name": "python3"
  },
  "language_info": {
   "codemirror_mode": {
    "name": "ipython",
    "version": 3
   },
   "file_extension": ".py",
   "mimetype": "text/x-python",
   "name": "python",
   "nbconvert_exporter": "python",
   "pygments_lexer": "ipython3",
   "version": "3.10.8"
  }
 },
 "nbformat": 4,
 "nbformat_minor": 5
}
