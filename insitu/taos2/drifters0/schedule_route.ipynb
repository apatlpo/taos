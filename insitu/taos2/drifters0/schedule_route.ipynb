{
 "cells": [
  {
   "cell_type": "markdown",
   "id": "e0cdff58",
   "metadata": {},
   "source": [
    "# TAOS0 drifter deployments: schedule route for drifter deployments\n"
   ]
  },
  {
   "cell_type": "code",
   "execution_count": 1,
   "id": "3d1159e7",
   "metadata": {},
   "outputs": [],
   "source": [
    "import os\n",
    "from glob import glob\n",
    "\n",
    "from datetime import datetime\n",
    "from time import sleep\n",
    "\n",
    "import numpy as np\n",
    "import pandas as pd\n",
    "import xarray as xr\n",
    "\n",
    "import matplotlib.pyplot as plt\n",
    "import pyproj\n",
    "\n",
    "import taos.utils as ut\n",
    "import taos.insitu as ins\n",
    "from taos.insitu import rad2deg, knot, _lonc, _latc\n",
    "lonc, latc  = _lonc, _latc"
   ]
  },
  {
   "cell_type": "markdown",
   "id": "749ed28c-d2be-4ca9-9665-589343183840",
   "metadata": {},
   "source": [
    "---\n",
    "\n",
    "## useful metrics"
   ]
  },
  {
   "cell_type": "code",
   "execution_count": 2,
   "id": "21f2acb6",
   "metadata": {},
   "outputs": [
    {
     "name": "stdout",
     "output_type": "stream",
     "text": [
      " lon: 1 deg = 72.44km,  0.1 deg = 7.2km,  0.01 deg = 724.4m,  0.001 deg = 72.4m\n",
      " lon: 1 deg = 72.44km,  1 min = 1207.3m,  .1 min = 120.7m,  0.01 min = 12.1m\n",
      " lon: 1 deg = 72.44km,  1 sec = 20.1m,  .1 sec = 2.0m\n",
      "-----------------------------------------------------------------\n",
      " lat: 1 deg = 111.23km,  0.1 deg = 11.1km,  0.01 deg = 1112.2m,  0.001 deg = 111.2m\n",
      " lat: 1 deg = 111.23km,  1 min = 1853.7m,  .1 min = 185.4m,  0.01 min = 18.5m\n",
      " lat: 1 deg = 111.23km,  1 sec = 30.9m,  .1 sec = 3.1m\n"
     ]
    }
   ],
   "source": [
    "ins.metrics_cheatsheet(lonc, latc)"
   ]
  },
  {
   "cell_type": "markdown",
   "id": "79e1b194",
   "metadata": {},
   "source": [
    "🐷🐷🐷🐷🐨🌼🌼🌼💐💐🌾🌖🌾😋😋👩‍🦳👩‍🦳§😄😁😁😁😀😄😄(😃😄(😚😚😗)🙃😇😇😇😇🥳🥳😏🥳🥳😏🥳😏🥳)😡😡😡😡😡😡👹👹👹👺👺👺👾👽👾😿😿😿😸😹👍🖐🏻👉🏽👀👥👥👥👥👥👥👥🧑🏽‍🦰🧑🏽‍🦰👱‍♂️👱‍♂️👱‍♂️👱‍♂️😡🤕à🤕🤕🤒😷"
   ]
  },
  {
   "cell_type": "markdown",
   "id": "1a23921f-225d-49a1-b175-e85ac327844d",
   "metadata": {},
   "source": [
    "---\n",
    "\n",
    "## drifter deployment route"
   ]
  },
  {
   "cell_type": "code",
   "execution_count": 3,
   "id": "b9e52806-bcfc-4e1c-86bd-d34d8a69dd40",
   "metadata": {},
   "outputs": [],
   "source": [
    "theta = 0/rad2deg"
   ]
  },
  {
   "cell_type": "code",
   "execution_count": 14,
   "id": "cb2bcd22",
   "metadata": {},
   "outputs": [],
   "source": [
    "# deployment geometry\n",
    "\n",
    "R = 1e3\n",
    "\n",
    "# set anchor\n",
    "anchor = ins.stations.loc[\"LSTOuistreham\"]\n",
    "lon_a, lat_a = anchor[\"lon\"], anchor[\"lat\"]\n",
    "x_a, y_a = ins.ll2xy(lon_a, lat_a)\n",
    "\n",
    "# other variables\n",
    "speed = 10 # knots\n",
    "time_waiting = 5*60 # seconds"
   ]
  },
  {
   "cell_type": "code",
   "execution_count": 15,
   "id": "da006bc8-c824-4365-9416-58d3a538dacb",
   "metadata": {},
   "outputs": [],
   "source": [
    "# build radiator manually\n",
    "ds = R/np.sqrt(2)\n",
    "dX = ds*np.array([0, -1-1j, -1-1j, -1+1j, 1+1j, 1+1j, -1+1j, -1-1j, -1-1j])\n",
    "X = np.cumsum(dX)\n",
    "\n",
    "X = X*np.exp(1j*theta)"
   ]
  },
  {
   "cell_type": "code",
   "execution_count": 16,
   "id": "ce22a874-e2ec-4895-b204-c50e5967c112",
   "metadata": {},
   "outputs": [
    {
     "data": {
      "text/plain": [
       "array([   0., 1000., 1000., 1000., 1000., 1000., 1000., 1000., 1000.])"
      ]
     },
     "execution_count": 16,
     "metadata": {},
     "output_type": "execute_result"
    }
   ],
   "source": [
    "np.abs(dX)"
   ]
  },
  {
   "cell_type": "code",
   "execution_count": 17,
   "id": "978a2dc8-b7ea-4569-883f-b8f464c506da",
   "metadata": {},
   "outputs": [
    {
     "data": {
      "image/png": "[encoded data removed]",
      "text/plain": [
       "<Figure size 432x288 with 1 Axes>"
      ]
     },
     "metadata": {
      "needs_background": "light"
     },
     "output_type": "display_data"
    }
   ],
   "source": [
    "# visual check\n",
    "plt.plot(X.real, X.imag)\n",
    "plt.scatter(X.real, X.imag, color=\"orange\")\n",
    "plt.axis(\"equal\")\n",
    "plt.grid()"
   ]
  },
  {
   "cell_type": "code",
   "execution_count": 18,
   "id": "2b3609f8-718b-4f63-8877-f98354124982",
   "metadata": {},
   "outputs": [],
   "source": [
    "# compute actual positions\n",
    "x, y = x_a+X.real, y_a+X.imag\n",
    "lon, lat = ins.xy2ll(x, y)\n",
    "#lon, lat"
   ]
  },
  {
   "cell_type": "markdown",
   "id": "6691a0af-902c-4b33-ba53-46e6db1e5640",
   "metadata": {},
   "source": [
    "**drifter 4 is center and needs to be doubled**"
   ]
  },
  {
   "cell_type": "code",
   "execution_count": 19,
   "id": "83a07b2e-9144-4ee6-990d-02401a2e32be",
   "metadata": {},
   "outputs": [
    {
     "data": {
      "application/vnd.jupyter.widget-view+json": {
       "model_id": "4a7d017b19d045889109c4076778961f",
       "version_major": 2,
       "version_minor": 0
      },
      "text/plain": [
       "Output()"
      ]
     },
     "metadata": {},
     "output_type": "display_data"
    },
    {
     "data": {
      "application/vnd.jupyter.widget-view+json": {
       "model_id": "93986bb684774051ada341120de8602d",
       "version_major": 2,
       "version_minor": 0
      },
      "text/plain": [
       "GridspecLayout(children=(Button(description='Update', icon='check', layout=Layout(grid_area='widget001'), styl…"
      ]
     },
     "metadata": {},
     "output_type": "display_data"
    }
   ],
   "source": [
    "dash = ins.dashboard_route(lon, lat, ship_speed=speed, time_waiting=time_waiting/60)\n",
    "dash.grid"
   ]
  },
  {
   "cell_type": "code",
   "execution_count": 21,
   "id": "fd2af615-81f7-44b7-ae06-40e167a4e01c",
   "metadata": {},
   "outputs": [
    {
     "data": {
      "image/png": "[encoded data removed]",
      "text/plain": [
       "<Figure size 720x720 with 1 Axes>"
      ]
     },
     "metadata": {
      "needs_background": "light"
     },
     "output_type": "display_data"
    }
   ],
   "source": [
    "ins.plot_deployments_route(dash.lon_vertices, dash.lat_vertices, dash.df, \n",
    "                           bathy=False, land=dict(scale=\"10m\"), coast_resolution=None,\n",
    "                          );"
   ]
  },
  {
   "cell_type": "markdown",
   "id": "3eb99ee8-4a72-4df3-8708-d2e3e1eee052",
   "metadata": {},
   "source": [
    "### Extract current speed and direction from dashboard"
   ]
  },
  {
   "cell_type": "code",
   "execution_count": 12,
   "id": "732df5f4-5df2-4fd3-86d2-738c70b39705",
   "metadata": {},
   "outputs": [
    {
     "name": "stdout",
     "output_type": "stream",
     "text": [
      " theta=-0.42 rad = -24.23 deg, abs(U) = 0.44 m/s\n"
     ]
    }
   ],
   "source": [
    "U = dash.w[\"current_speed_x\"].value + 1j*dash.w[\"current_speed_y\"].value\n",
    "#U = 1. + 1j*1. # dev\n",
    "U_theta = np.angle(U)\n",
    "U_amplitude = np.abs(U)\n",
    "print(f\" theta={U_theta:.2f} rad = {U_theta*rad2deg:.2f} deg, abs(U) = {U_amplitude:.2f} m/s\")"
   ]
  },
  {
   "cell_type": "code",
   "execution_count": 13,
   "id": "6fa1d4c3-62fa-4af6-8216-ac7834bec0ca",
   "metadata": {},
   "outputs": [],
   "source": [
    "# set rotation angle to current direction\n",
    "theta = U_theta"
   ]
  },
  {
   "cell_type": "markdown",
   "id": "b603fd4b-b68b-4bd6-9ee3-0f474c1aac08",
   "metadata": {},
   "source": [
    "⛷⛷⛷⛷⛹️‍♂️🛹🥌🥶🥶🎽\n",
    "😀😀😔😔🥳🥳🥳🥳\n",
    "🤩😞\n",
    "😨🥵🤬⚽️🏀🏈⚾️🥎🎾🎾🏐🥏\n"
   ]
  }
 ],
 "metadata": {
  "kernelspec": {
   "display_name": "Python 3 (ipykernel)",
   "language": "python",
   "name": "python3"
  },
  "language_info": {
   "codemirror_mode": {
    "name": "ipython",
    "version": 3
   },
   "file_extension": ".py",
   "mimetype": "text/x-python",
   "name": "python",
   "nbconvert_exporter": "python",
   "pygments_lexer": "ipython3",
   "version": "3.8.13"
  }
 },
 "nbformat": 4,
 "nbformat_minor": 5
}
