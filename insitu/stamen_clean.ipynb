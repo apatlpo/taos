{
 "cells": [
  {
   "cell_type": "markdown",
   "id": "47d84d32-00d6-4a49-891c-75578f1bea06",
   "metadata": {},
   "source": [
    "# clean cartopy tile files\n",
    "\n",
    "Some may become corrupted"
   ]
  },
  {
   "cell_type": "code",
   "execution_count": null,
   "id": "1f77b6ad-f77c-453a-bd3e-049bb5e90b03",
   "metadata": {},
   "outputs": [],
   "source": [
    "from glob import glob\n",
    "from time import sleep\n",
    "\n",
    "from numpy import np\n",
    "import matplotlib.pyplot as plt"
   ]
  },
  {
   "cell_type": "code",
   "execution_count": null,
   "id": "fd30bd0a-eb26-4b39-8e6a-c8d04e48fc63",
   "metadata": {},
   "outputs": [],
   "source": [
    "f = '/tmp/cartopy_cache/Stamen/2042_1400_12.npy'\n",
    "v = np.load(f)\n",
    "print(v.min(), v.max(), f)"
   ]
  },
  {
   "cell_type": "code",
   "execution_count": null,
   "id": "90638342-433b-49e6-8c15-11535a526a45",
   "metadata": {},
   "outputs": [],
   "source": [
    "files = sorted(glob(\"/tmp/cartopy_cache/Stamen/*.npy\"))\n",
    "\n",
    "for f in files:\n",
    "    v = np.load(f)\n",
    "    print(v.min(), v.max(), f)\n",
    "    plt.imshow(v)    \n",
    "    plt.show()\n",
    "    sleep(0.5)\n",
    "    plt.close()"
   ]
  },
  {
   "cell_type": "code",
   "execution_count": null,
   "id": "d1032768-7868-4d90-b0be-6e1796c5ab16",
   "metadata": {},
   "outputs": [],
   "source": [
    "# delete files\n",
    "for f in files:\n",
    "    v = np.load(f)\n",
    "    if v.min() == v.max() and v.min()==250:\n",
    "        print(f)\n",
    "        os.remove(f)"
   ]
  }
 ],
 "metadata": {
  "kernelspec": {
   "display_name": "Python 3 (ipykernel)",
   "language": "python",
   "name": "python3"
  },
  "language_info": {
   "codemirror_mode": {
    "name": "ipython",
    "version": 3
   },
   "file_extension": ".py",
   "mimetype": "text/x-python",
   "name": "python",
   "nbconvert_exporter": "python",
   "pygments_lexer": "ipython3",
   "version": "3.10.8"
  }
 },
 "nbformat": 4,
 "nbformat_minor": 5
}
