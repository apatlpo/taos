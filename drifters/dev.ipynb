{
 "cells": [
  {
   "cell_type": "markdown",
   "id": "e6f850a4-de76-4bd4-9e9d-dc5d981bd8e1",
   "metadata": {},
   "source": [
    "# load, modify xml file, development"
   ]
  },
  {
   "cell_type": "code",
   "execution_count": 4,
   "id": "2173393d-9cf0-4ac7-a224-d32a676665d9",
   "metadata": {},
   "outputs": [],
   "source": [
    "import xml.etree.ElementTree as ET\n",
    "import os"
   ]
  },
  {
   "cell_type": "code",
   "execution_count": 12,
   "id": "9cb45a28-dfc8-43a0-aeb2-20bffe96273d",
   "metadata": {},
   "outputs": [
    {
     "name": "stdout",
     "output_type": "stream",
     "text": [
      "File taos_mars3d_new.xml has been generated\n"
     ]
    }
   ],
   "source": [
    "\n",
    "def update_config(file_in, file_out=None, overwrite=False, **params):\n",
    "    \"\"\" Modify an Ichthyop xml input file\n",
    "    \n",
    "    Parameters\n",
    "    ----------\n",
    "    file_in: str\n",
    "        Input file\n",
    "    file_out: str, optional\n",
    "        Output file\n",
    "    overwrite: boolean, optional\n",
    "    **kwargs:\n",
    "        parameters to be modified, e.g.\n",
    "        initial_time=\"year 2011 month 01 day 01 at 01:00\"\n",
    "        \n",
    "    \"\"\"\n",
    "\n",
    "    if file_out is None:\n",
    "        file_out = file_in.replace(\".xml\", \"_new.xml\")\n",
    "    \n",
    "    tree = ET.parse(file_in)\n",
    "    root = tree.getroot()\n",
    "    \n",
    "    modified = {k: False for k in params}\n",
    "\n",
    "    for p in root.iter(\"parameter\"):\n",
    "        #print(p)\n",
    "        #print(dir(p))\n",
    "        #print(p.items())\n",
    "        for k in p.iter(\"key\"):\n",
    "            #if k.text==\"initial_time\":\n",
    "            if k.text in params:\n",
    "                #print(k)\n",
    "                #print(k.text)\n",
    "                v = p.find(\"value\")\n",
    "                #print(v)\n",
    "                #print(v.text)\n",
    "                #v.text = \"some new date\"\n",
    "                v.text = str(params[k.text])\n",
    "                modified[k.text] = True\n",
    "\n",
    "    assert all([b for k, b in modified.items()]), \"One or several parameters were not modified\"\n",
    "                \n",
    "    if overwrite or not os.path.isfile(file_out):\n",
    "        tree.write(file_out)\n",
    "        print(\"File {} has been generated\".format(file_out))\n",
    "    else:\n",
    "        print(\"Nothing done\")\n",
    "    \n",
    "\n",
    "cfg = dict(initial_time=\"year 2011 month 01 day 01 at 01:00\",\n",
    "           transport_duration=\"0010 day(s) 00 hour(s) 00 minute(s)\",\n",
    "           number_particles=500,\n",
    "           lon_stain=-0.4,\n",
    "           lat_stain=49.5,\n",
    "           depth_stain=-0.0,\n",
    "           radius_stain=100,\n",
    "           thickness_stain=1.0,\n",
    "          )\n",
    "    \n",
    "\n",
    "#update_config(\"taos_mars3d.xml\", initial_time=\"year 2011 month 01 day 01 at 01:00\")\n",
    "update_config(\"taos_mars3d.xml\", overwrite=True, **cfg)\n",
    "\n"
   ]
  },
  {
   "cell_type": "markdown",
   "id": "9311c1fb-24f0-4e5b-8820-63535fc47855",
   "metadata": {},
   "source": [
    "---\n",
    "\n",
    "List of relevant parameters:\n",
    "\n",
    "- initial_time=\"year 2011 month 01 day 01 at 01:00\"\n",
    "- Transport duration=\"0010 day(s) 00 hour(s) 00 minute(s)\"\n",
    "- number_particles=50\n",
    "- lon_stain=-0.4\n",
    "- lat_stain=49.5\n",
    "- depth_stain=-0.0\n",
    "- radius_stain=100 [meters]\n",
    "- thickness_stain=1.0 [meters]\n",
    "- "
   ]
  },
  {
   "cell_type": "code",
   "execution_count": null,
   "id": "b45fcea4-f1cf-450d-a2fb-3e7b7213b83f",
   "metadata": {},
   "outputs": [],
   "source": []
  }
 ],
 "metadata": {
  "kernelspec": {
   "display_name": "Python 3",
   "language": "python",
   "name": "python3"
  },
  "language_info": {
   "codemirror_mode": {
    "name": "ipython",
    "version": 3
   },
   "file_extension": ".py",
   "mimetype": "text/x-python",
   "name": "python",
   "nbconvert_exporter": "python",
   "pygments_lexer": "ipython3",
   "version": "3.8.8"
  }
 },
 "nbformat": 4,
 "nbformat_minor": 5
}
