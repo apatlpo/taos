{
 "cells": [
  {
   "cell_type": "markdown",
   "id": "7d6cdc0d",
   "metadata": {},
   "source": [
    "# TAOS drifter deployments: tool development\n",
    "\n",
    "\n",
    "- [ ] approximate time for deployment & currents (speed, direction)?\n",
    "- [ ] GPS position onboard delphy: degrés décimaux, deg/min decimaux, deg/min/sec ?\n",
    "- [ ] Outil de cartographie ? (rentrée positions)\n",
    "- [ ] Téléphone boosté?\n",
    "- [ ] Prise électrique à bord du Delphy: Oui\n",
    "\n",
    "Land tool:\n",
    "\n",
    "- [ ] automatic refresh: download and print in table\n",
    "- [ ] high res bathymetry: pas sûr\n",
    "\n",
    "Ship tool:\n",
    "\n",
    "- [ ] manual input of coordinates\n",
    "- [ ] update route with click\n",
    "\n",
    "\n",
    "[Marc](https://marc.ifremer.fr/resultats/courants/modeles_mars2d_atlantique_nord_est/(variable)/courant/(typevisu)/map/(zoneid)/7418/(type)/canvas#appTop)\n"
   ]
  },
  {
   "cell_type": "code",
   "execution_count": 1,
   "id": "78d022bd",
   "metadata": {},
   "outputs": [],
   "source": [
    "import os\n",
    "from glob import glob\n",
    "\n",
    "from datetime import datetime\n",
    "from time import sleep\n",
    "\n",
    "import numpy as np\n",
    "import pandas as pd\n",
    "import xarray as xr\n",
    "\n",
    "import matplotlib.pyplot as plt\n",
    "import pyproj\n",
    "\n",
    "import taos.utils as ut\n",
    "import taos.insitu as ins\n",
    "from taos.insitu import rad2deg, knot, lonc, latc"
   ]
  },
  {
   "cell_type": "markdown",
   "id": "74e5c702",
   "metadata": {},
   "source": [
    "---\n",
    "\n",
    "## useful metrics"
   ]
  },
  {
   "cell_type": "code",
   "execution_count": 2,
   "id": "efee658b",
   "metadata": {},
   "outputs": [
    {
     "name": "stdout",
     "output_type": "stream",
     "text": [
      " lon: 1 deg = 72.44km,  0.1 deg = 7.2km,  0.01 deg = 724.4m,  0.001 deg = 72.4m\n",
      " lon: 1 deg = 72.44km,  1 min = 1207.3m,  .1 min = 120.7m,  0.01 min = 12.1m\n",
      " lon: 1 deg = 72.44km,  1 sec = 20.1m,  .1 sec = 2.0m\n",
      "-----------------------------------------------------------------\n",
      " lat: 1 deg = 111.23km,  0.1 deg = 11.1km,  0.01 deg = 1112.2m,  0.001 deg = 111.2m\n",
      " lat: 1 deg = 111.23km,  1 min = 1853.7m,  .1 min = 185.4m,  0.01 min = 18.5m\n",
      " lat: 1 deg = 111.23km,  1 sec = 30.9m,  .1 sec = 3.1m\n"
     ]
    }
   ],
   "source": [
    "ins.metrics_cheatsheet(lonc, latc)"
   ]
  },
  {
   "cell_type": "markdown",
   "id": "7d724730",
   "metadata": {},
   "source": [
    "🐷🐷🐷🐷🐨🌼🌼🌼💐💐🌾🌖🌾😋😋👩‍🦳👩‍🦳§😄😁😁😁😀😄😄(😃😄(😚😚😗)🙃😇😇😇😇🥳🥳😏🥳🥳😏🥳😏🥳)😡😡😡😡😡😡👹👹👹👺👺👺👾👽👾😿😿😿😸😹👍🖐🏻👉🏽👀👥👥👥👥👥👥👥🧑🏽‍🦰🧑🏽‍🦰👱‍♂️👱‍♂️👱‍♂️👱‍♂️😡🤕à🤕🤕🤒😷"
   ]
  },
  {
   "cell_type": "markdown",
   "id": "5a175ae1",
   "metadata": {},
   "source": [
    "---\n",
    "\n",
    "## course resolution \n",
    "\n",
    "We want to find the time interval $\\delta t$ and the heading $\\theta$ such as we meet the trajectory of an ocean parcel initially located at a location $(\\delta x, \\delta y)$.\n",
    "We also want to account for a waiting time $t_w$, i.e. we want to wait $t_w$ at the meeting location before the ocean parcel arrives.\n",
    "This ship is assumed to be located at position $(0,0)$ initially.\n",
    "We thus want to solve for  $\\delta t$ and $\\theta$ the following equation:\n",
    "\n",
    "\\begin{align}\n",
    "\\delta x + u_o (\\delta t + t_w) = u_s \\cos(\\theta) \\delta t, \\\\\n",
    "\\delta y + v_o (\\delta t + t_w) = u_s \\sin(\\theta) \\delta t,\n",
    "\\end{align}\n"
   ]
  },
  {
   "cell_type": "code",
   "execution_count": 3,
   "id": "773f53e4",
   "metadata": {},
   "outputs": [
    {
     "name": "stderr",
     "output_type": "stream",
     "text": [
      "/Users/aponte/.miniconda3/envs/cognac/lib/python3.8/site-packages/scipy/optimize/optimize.py:282: RuntimeWarning: Values in x were outside bounds during a minimize step, clipping to bounds\n",
      "  warnings.warn(\"Values in x were outside bounds during a \"\n"
     ]
    },
    {
     "name": "stdout",
     "output_type": "stream",
     "text": [
      " New heading = -75.8 at 9.7 knots (5.0m/s), time to destination = 3.4min, waiting time: 5.0min\n"
     ]
    }
   ],
   "source": [
    "Uo = .5 + 1j*0 # m/s\n",
    "dX = 0 - 1j*1e3 # m\n",
    "speed = 10*0.5 # m/s\n",
    "time_waiting = 5*60 # seconds\n",
    "\n",
    "theta, dt, _, X_launch, Us = ins.solve_route_heading(dX, speed, Uo, time_waiting)\n",
    "\n",
    "print(f\" New heading = {theta*rad2deg:.1f} at {speed/knot:.1f} knots ({speed:.1f}m/s), \" \\\n",
    "      f\"time to destination = {dt/60:.1f}min, waiting time: {time_waiting/60:.1f}min\")"
   ]
  },
  {
   "cell_type": "code",
   "execution_count": 4,
   "id": "783767a1",
   "metadata": {},
   "outputs": [
    {
     "data": {
      "image/png": "[encoded data removed]",
      "text/plain": [
       "<Figure size 432x288 with 1 Axes>"
      ]
     },
     "metadata": {
      "needs_background": "light"
     },
     "output_type": "display_data"
    }
   ],
   "source": [
    "ins.plot_route_solution(dX, Us, Uo, dt, time_waiting)"
   ]
  },
  {
   "cell_type": "markdown",
   "id": "435eb681",
   "metadata": {},
   "source": [
    "- The orange arrow is the ship track.\n",
    "- The black arrow is the target point initial position.\n",
    "- The small blue arrow represents an ocean parcel displacement at the end of the transit time\n",
    "- The larger blue arrow represents an ocean parcel displacement after transit plus waiting time\n",
    "\n",
    "The question is solver when the sum of the larger blue arrow and the black arrow equal the orange one."
   ]
  },
  {
   "cell_type": "markdown",
   "id": "c654bcb2",
   "metadata": {},
   "source": [
    "---\n",
    "\n",
    "## deployment geometry\n"
   ]
  },
  {
   "cell_type": "code",
   "execution_count": 5,
   "id": "3d065c0f",
   "metadata": {},
   "outputs": [
    {
     "data": {
      "image/png": "[encoded data removed]",
      "text/plain": [
       "<Figure size 432x288 with 1 Axes>"
      ]
     },
     "metadata": {
      "needs_background": "light"
     },
     "output_type": "display_data"
    }
   ],
   "source": [
    "R, theta, N = 1e3, 0/rad2deg, 5\n",
    "#X, dX = ins.build_polygon(L, theta, N, rotation=1)\n",
    "X, dX = ins.build_square_with_center(R, theta, rotation=-1, center_loc=2)\n",
    "ins.plot_polygon(X, dX)"
   ]
  },
  {
   "cell_type": "markdown",
   "id": "904044ad",
   "metadata": {},
   "source": [
    "Load Baie de Seine points of interests"
   ]
  },
  {
   "cell_type": "code",
   "execution_count": 6,
   "id": "60f7e215",
   "metadata": {},
   "outputs": [
    {
     "data": {
      "text/html": [
       "<div>\n",
       "<style scoped>\n",
       "    .dataframe tbody tr th:only-of-type {\n",
       "        vertical-align: middle;\n",
       "    }\n",
       "\n",
       "    .dataframe tbody tr th {\n",
       "        vertical-align: top;\n",
       "    }\n",
       "\n",
       "    .dataframe thead th {\n",
       "        text-align: right;\n",
       "    }\n",
       "</style>\n",
       "<table border=\"1\" class=\"dataframe\">\n",
       "  <thead>\n",
       "    <tr style=\"text-align: right;\">\n",
       "      <th></th>\n",
       "      <th>System</th>\n",
       "      <th>lon</th>\n",
       "      <th>lat</th>\n",
       "    </tr>\n",
       "  </thead>\n",
       "  <tbody>\n",
       "    <tr>\n",
       "      <th>Epave nord Ouistreham</th>\n",
       "      <td>release</td>\n",
       "      <td>-0.246717</td>\n",
       "      <td>49.374433</td>\n",
       "    </tr>\n",
       "    <tr>\n",
       "      <th>LSTOuistreham</th>\n",
       "      <td>buoy</td>\n",
       "      <td>-0.246754</td>\n",
       "      <td>49.340379</td>\n",
       "    </tr>\n",
       "    <tr>\n",
       "      <th>Luc</th>\n",
       "      <td>buoy</td>\n",
       "      <td>-0.307225</td>\n",
       "      <td>49.345653</td>\n",
       "    </tr>\n",
       "  </tbody>\n",
       "</table>\n",
       "</div>"
      ],
      "text/plain": [
       "                        System       lon        lat\n",
       "Epave nord Ouistreham  release -0.246717  49.374433\n",
       "LSTOuistreham             buoy -0.246754  49.340379\n",
       "Luc                       buoy -0.307225  49.345653"
      ]
     },
     "execution_count": 6,
     "metadata": {},
     "output_type": "execute_result"
    }
   ],
   "source": [
    "ins.stations"
   ]
  },
  {
   "cell_type": "code",
   "execution_count": 7,
   "id": "bdaf22c8",
   "metadata": {},
   "outputs": [],
   "source": [
    "#lon_a, lat_a = -0.25, 49.33 # anchor point\n",
    "anchor = ins.stations.loc[\"LSTOuistreham\"]\n",
    "lon_a, lat_a = anchor[\"lon\"], anchor[\"lat\"]\n",
    "\n",
    "center_loc = 2\n",
    "lon, lat, X = ins.build_square_geo(lon_a, lat_a, R, theta, rotation=-1, center_loc=center_loc)"
   ]
  },
  {
   "cell_type": "markdown",
   "id": "8c250f28",
   "metadata": {},
   "source": [
    "### build a radiator for hydrological measurements"
   ]
  },
  {
   "cell_type": "code",
   "execution_count": 8,
   "id": "f7ce4630",
   "metadata": {},
   "outputs": [
    {
     "name": "stdout",
     "output_type": "stream",
     "text": [
      "(0.7071067811865476+0.7071067811865476j)\n",
      "Distance 7.63614234542708 NM\n"
     ]
    }
   ],
   "source": [
    "# find the square center\n",
    "lonc, latc = lon[center_loc], lat[center_loc]\n",
    "# build radiator\n",
    "lon_radiator, lat_radiator, length_radiator, dX_radiator = ins.radiator(2.5*R, 3, theta, lonc, latc)"
   ]
  },
  {
   "cell_type": "code",
   "execution_count": 9,
   "id": "897c2fef",
   "metadata": {},
   "outputs": [
    {
     "data": {
      "text/plain": [
       "(-1944.543648263006, 1944.543648263006, -1944.543648263006, 1944.543648263006)"
      ]
     },
     "execution_count": 9,
     "metadata": {},
     "output_type": "execute_result"
    },
    {
     "data": {
      "image/png": "[encoded data removed]",
      "text/plain": [
       "<Figure size 432x288 with 1 Axes>"
      ]
     },
     "metadata": {
      "needs_background": "light"
     },
     "output_type": "display_data"
    }
   ],
   "source": [
    "plt.plot(dX_radiator.real, dX_radiator.imag)\n",
    "plt.axis(\"equal\")"
   ]
  },
  {
   "cell_type": "code",
   "execution_count": 10,
   "id": "734866bb",
   "metadata": {},
   "outputs": [
    {
     "name": "stdout",
     "output_type": "stream",
     "text": [
      "Point 0: -0.0W 14.168  49.0N 21.376\n",
      "Point 1: -0.0W 17.088  49.0N 21.379\n",
      "Point 2: -0.0W 17.090  49.0N 20.425\n",
      "Point 3: -0.0W 14.171  49.0N 20.422\n",
      "Point 4: -0.0W 14.175  49.0N 19.468\n",
      "Point 5: -0.0W 17.093  49.0N 19.472\n"
     ]
    }
   ],
   "source": [
    "i=0\n",
    "for _lon, _lat in zip(lon_radiator, lat_radiator):\n",
    "    _lon_deg, _lon_min = ins.deg_mindec(_lon)\n",
    "    _lat_deg, _lat_min = ins.deg_mindec(_lat)\n",
    "    if _lon_deg<=0:\n",
    "        EW=\"W\"\n",
    "    else:\n",
    "        EW=\"E\"\n",
    "    print(f\"Point {i}: {_lon_deg}{EW} {_lon_min:.3f}  {_lat_deg}N {_lat_min:.3f}\")\n",
    "    i+=1"
   ]
  },
  {
   "cell_type": "markdown",
   "id": "167e0f67",
   "metadata": {},
   "source": [
    "### first drifter deployment coordinates"
   ]
  },
  {
   "cell_type": "code",
   "execution_count": 11,
   "id": "9f1cdc8a",
   "metadata": {},
   "outputs": [
    {
     "name": "stdout",
     "output_type": "stream",
     "text": [
      "Anchor: -0.0W 14.805  49.0N 20.423\n"
     ]
    }
   ],
   "source": [
    "_lon_deg, _lon_min = ins.deg_mindec(lon_a)\n",
    "_lat_deg, _lat_min = ins.deg_mindec(lat_a)\n",
    "\n",
    "print(f\"Anchor: {_lon_deg}{EW} {_lon_min:.3f}  {_lat_deg}N {_lat_min:.3f}\")"
   ]
  },
  {
   "cell_type": "markdown",
   "id": "433991fb",
   "metadata": {},
   "source": [
    "### plot the overall deployment"
   ]
  },
  {
   "cell_type": "code",
   "execution_count": 12,
   "id": "d1261c47",
   "metadata": {},
   "outputs": [
    {
     "data": {
      "text/plain": [
       "[<matplotlib.lines.Line2D at 0x7fc3433df610>]"
      ]
     },
     "execution_count": 12,
     "metadata": {},
     "output_type": "execute_result"
    },
    {
     "data": {
      "image/png": "[encoded data removed]",
      "text/plain": [
       "<Figure size 720x720 with 2 Axes>"
      ]
     },
     "metadata": {
      "needs_background": "light"
     },
     "output_type": "display_data"
    }
   ],
   "source": [
    "fac = ut.plot_bs(bathy=True, zoom=[-.4, -.1, 49.27, 49.4], vmax=30, figsize=(10,10))\n",
    "ax = fac[\"ax\"]\n",
    "\n",
    "ax.scatter(lon, lat, 30, color=\"orange\", transform=ut.ccrs.PlateCarree())\n",
    "\n",
    "for i in range(lon.size):\n",
    "    ax.text(lon[i]+1e-3, lat[i], f\"{i}\", transform=ut.ccrs.PlateCarree())\n",
    "\n",
    "_s = ins.stations\n",
    "ax.scatter(_s.lon, _s.lat, 20, color=\"black\", marker=\"*\", transform=ut.ccrs.PlateCarree())\n",
    "\n",
    "ax.scatter(lon_radiator, lat_radiator, 20, color=\"red\", marker=\"*\", transform=ut.ccrs.PlateCarree())\n",
    "ax.plot(lon_radiator, lat_radiator, color=\"red\", transform=ut.ccrs.PlateCarree())"
   ]
  },
  {
   "cell_type": "markdown",
   "id": "16360430",
   "metadata": {},
   "source": [
    "### solve route for drifter deployments"
   ]
  },
  {
   "cell_type": "code",
   "execution_count": 28,
   "id": "4870e91d",
   "metadata": {},
   "outputs": [
    {
     "name": "stderr",
     "output_type": "stream",
     "text": [
      "/Users/aponte/.miniconda3/envs/cognac/lib/python3.8/site-packages/scipy/optimize/optimize.py:282: RuntimeWarning: Values in x were outside bounds during a minimize step, clipping to bounds\n",
      "  warnings.warn(\"Values in x were outside bounds during a \"\n"
     ]
    },
    {
     "data": {
      "text/html": [
       "<div>\n",
       "<style scoped>\n",
       "    .dataframe tbody tr th:only-of-type {\n",
       "        vertical-align: middle;\n",
       "    }\n",
       "\n",
       "    .dataframe tbody tr th {\n",
       "        vertical-align: top;\n",
       "    }\n",
       "\n",
       "    .dataframe thead th {\n",
       "        text-align: right;\n",
       "    }\n",
       "</style>\n",
       "<table border=\"1\" class=\"dataframe\">\n",
       "  <thead>\n",
       "    <tr style=\"text-align: right;\">\n",
       "      <th></th>\n",
       "      <th>time</th>\n",
       "      <th>lon</th>\n",
       "      <th>lat</th>\n",
       "      <th>heading</th>\n",
       "      <th>dt_route</th>\n",
       "      <th>dt_total</th>\n",
       "      <th>lon_deg</th>\n",
       "      <th>lon_min</th>\n",
       "      <th>lat_deg</th>\n",
       "      <th>lat_min</th>\n",
       "    </tr>\n",
       "    <tr>\n",
       "      <th>deployment</th>\n",
       "      <th></th>\n",
       "      <th></th>\n",
       "      <th></th>\n",
       "      <th></th>\n",
       "      <th></th>\n",
       "      <th></th>\n",
       "      <th></th>\n",
       "      <th></th>\n",
       "      <th></th>\n",
       "      <th></th>\n",
       "    </tr>\n",
       "  </thead>\n",
       "  <tbody>\n",
       "    <tr>\n",
       "      <th>-1</th>\n",
       "      <td>2022-07-15 14:26:47.875635000</td>\n",
       "      <td>-0.246754</td>\n",
       "      <td>49.340379</td>\n",
       "      <td>NaN</td>\n",
       "      <td>NaN</td>\n",
       "      <td>NaN</td>\n",
       "      <td>-0.0</td>\n",
       "      <td>14.805240</td>\n",
       "      <td>49.0</td>\n",
       "      <td>20.422740</td>\n",
       "    </tr>\n",
       "    <tr>\n",
       "      <th>0</th>\n",
       "      <td>2022-07-15 14:31:48.875635000</td>\n",
       "      <td>-0.246819</td>\n",
       "      <td>49.340393</td>\n",
       "      <td>-3.455752</td>\n",
       "      <td>0.016667</td>\n",
       "      <td>5.016667</td>\n",
       "      <td>-0.0</td>\n",
       "      <td>14.809163</td>\n",
       "      <td>49.0</td>\n",
       "      <td>20.423579</td>\n",
       "    </tr>\n",
       "    <tr>\n",
       "      <th>1</th>\n",
       "      <td>2022-07-15 14:41:12.543873156</td>\n",
       "      <td>-0.258667</td>\n",
       "      <td>49.331417</td>\n",
       "      <td>-2.280540</td>\n",
       "      <td>4.394471</td>\n",
       "      <td>9.394471</td>\n",
       "      <td>-0.0</td>\n",
       "      <td>15.519991</td>\n",
       "      <td>49.0</td>\n",
       "      <td>19.884996</td>\n",
       "    </tr>\n",
       "    <tr>\n",
       "      <th>2</th>\n",
       "      <td>2022-07-15 14:49:34.110044899</td>\n",
       "      <td>-0.256915</td>\n",
       "      <td>49.340406</td>\n",
       "      <td>1.446056</td>\n",
       "      <td>3.359436</td>\n",
       "      <td>8.359436</td>\n",
       "      <td>-0.0</td>\n",
       "      <td>15.414919</td>\n",
       "      <td>49.0</td>\n",
       "      <td>20.424356</td>\n",
       "    </tr>\n",
       "    <tr>\n",
       "      <th>3</th>\n",
       "      <td>2022-07-15 14:57:30.300521210</td>\n",
       "      <td>-0.269038</td>\n",
       "      <td>49.340420</td>\n",
       "      <td>-3.141593</td>\n",
       "      <td>2.936508</td>\n",
       "      <td>7.936508</td>\n",
       "      <td>-0.0</td>\n",
       "      <td>16.142257</td>\n",
       "      <td>49.0</td>\n",
       "      <td>20.425220</td>\n",
       "    </tr>\n",
       "    <tr>\n",
       "      <th>4</th>\n",
       "      <td>2022-07-15 15:07:35.283591025</td>\n",
       "      <td>-0.253169</td>\n",
       "      <td>49.349393</td>\n",
       "      <td>0.715208</td>\n",
       "      <td>5.083051</td>\n",
       "      <td>10.083051</td>\n",
       "      <td>-0.0</td>\n",
       "      <td>15.190151</td>\n",
       "      <td>49.0</td>\n",
       "      <td>20.963563</td>\n",
       "    </tr>\n",
       "  </tbody>\n",
       "</table>\n",
       "</div>"
      ],
      "text/plain": [
       "                                    time       lon        lat   heading  \\\n",
       "deployment                                                                \n",
       "-1         2022-07-15 14:26:47.875635000 -0.246754  49.340379       NaN   \n",
       " 0         2022-07-15 14:31:48.875635000 -0.246819  49.340393 -3.455752   \n",
       " 1         2022-07-15 14:41:12.543873156 -0.258667  49.331417 -2.280540   \n",
       " 2         2022-07-15 14:49:34.110044899 -0.256915  49.340406  1.446056   \n",
       " 3         2022-07-15 14:57:30.300521210 -0.269038  49.340420 -3.141593   \n",
       " 4         2022-07-15 15:07:35.283591025 -0.253169  49.349393  0.715208   \n",
       "\n",
       "            dt_route   dt_total  lon_deg    lon_min  lat_deg    lat_min  \n",
       "deployment                                                               \n",
       "-1               NaN        NaN     -0.0  14.805240     49.0  20.422740  \n",
       " 0          0.016667   5.016667     -0.0  14.809163     49.0  20.423579  \n",
       " 1          4.394471   9.394471     -0.0  15.519991     49.0  19.884996  \n",
       " 2          3.359436   8.359436     -0.0  15.414919     49.0  20.424356  \n",
       " 3          2.936508   7.936508     -0.0  16.142257     49.0  20.425220  \n",
       " 4          5.083051  10.083051     -0.0  15.190151     49.0  20.963563  "
      ]
     },
     "execution_count": 28,
     "metadata": {},
     "output_type": "execute_result"
    },
    {
     "data": {
      "image/png": "[encoded data removed]",
      "text/plain": [
       "<Figure size 720x720 with 2 Axes>"
      ]
     },
     "metadata": {
      "needs_background": "light"
     },
     "output_type": "display_data"
    }
   ],
   "source": [
    "# anchor point\n",
    "#L, theta = 2e3, 0/rad2deg\n",
    "#lon_a, lat_a = -0.25, 49.33\n",
    "\n",
    "Uo =  .25 + 1j*0 # m/s\n",
    "speed = 10*0.5 # m/s\n",
    "time_waiting = 5*60 # seconds\n",
    "\n",
    "lon, lat, X = ins.build_square_geo(lon_a, lat_a, R, theta, rotation=-1, center_loc=2)\n",
    "\n",
    "# deployment at ship location\n",
    "df = ins.deployments_route_schedule(lon_a, lat_a, speed, lon, lat, time_waiting, Uo)\n",
    "# deployment at predetermined anchor location\n",
    "#df = ins.deployments_route_schedule(lon_a-0.02, lat_a, speed, lon, lat, time_waiting, Uo\n",
    "#                    lon_a=lon_a, lat_a=lat_a,\n",
    "#                   )\n",
    "# underway deployment at location 2 and beyond\n",
    "#df = ins.deployments_route_schedule(lon_a-0.02, lat_a, speed, lon, lat, time_waiting, Uo\n",
    "#                    lon_a=lon_a, lat_a=lat_a, time_a=now()-pd.Timedelta(\"1min\"),\n",
    "#                    skip=2,\n",
    "#                   )\n",
    "\n",
    "ins.plot_deployments_route(lon, lat, df, bathy=True)\n",
    "\n",
    "df\n",
    "\n"
   ]
  },
  {
   "cell_type": "code",
   "execution_count": 24,
   "id": "ab572afd",
   "metadata": {},
   "outputs": [
    {
     "data": {
      "text/plain": [
       "{'fig': <Figure size 720x720 with 2 Axes>,\n",
       " 'ax': <GeoAxesSubplot:xlabel='longitude [degrees_east]', ylabel='latitude [degrees_north]'>,\n",
       " 'cbar': <matplotlib.colorbar.Colorbar at 0x7fc34011ebe0>}"
      ]
     },
     "execution_count": 24,
     "metadata": {},
     "output_type": "execute_result"
    },
    {
     "data": {
      "image/png": "[encoded data removed]",
      "text/plain": [
       "<Figure size 720x720 with 2 Axes>"
      ]
     },
     "metadata": {
      "needs_background": "light"
     },
     "output_type": "display_data"
    }
   ],
   "source": []
  },
  {
   "cell_type": "code",
   "execution_count": 15,
   "id": "9351abdf",
   "metadata": {},
   "outputs": [],
   "source": [
    "# debug\n",
    "if False:\n",
    "    #opts = dict(n=256, options=dict(disp=True))\n",
    "    #opts = dict(n=512)\n",
    "    _dX = dX[0]\n",
    "    theta, dt_route, dt_total, X_launch, Us = ins.solve_route_heading(_dX, speed, Uo, time_waiting)\n",
    "    ins.plot_route_solution(_dX, Us, Uo, dt_route, time_waiting)\n",
    "    theta*rad2deg, dt_route/60, dt_total/60, X_launch, Us"
   ]
  },
  {
   "cell_type": "code",
   "execution_count": 16,
   "id": "dca8c3ed",
   "metadata": {},
   "outputs": [
    {
     "ename": "NameError",
     "evalue": "name 'dash' is not defined",
     "output_type": "error",
     "traceback": [
      "\u001b[0;31m---------------------------------------------------------------------------\u001b[0m",
      "\u001b[0;31mNameError\u001b[0m                                 Traceback (most recent call last)",
      "\u001b[0;32m/var/folders/pb/vp119fcj1pn3dc3x2dz4dkt80000gn/T/ipykernel_90162/1749356816.py\u001b[0m in \u001b[0;36m<module>\u001b[0;34m\u001b[0m\n\u001b[0;32m----> 1\u001b[0;31m ins.plot_deployments_route(dash.lon_vertices, dash.lat_vertices, dash.df, bathy=False, land=dict(scale=\"10m\"), \n\u001b[0m\u001b[1;32m      2\u001b[0m                            coast_resolution=None)\n",
      "\u001b[0;31mNameError\u001b[0m: name 'dash' is not defined"
     ]
    }
   ],
   "source": [
    "ins.plot_deployments_route(dash.lon_vertices, dash.lat_vertices, dash.df, bathy=False, land=dict(scale=\"10m\"), \n",
    "                           coast_resolution=None)"
   ]
  },
  {
   "cell_type": "markdown",
   "id": "31119a56",
   "metadata": {},
   "source": [
    "---\n",
    "## load drifter data\n",
    "\n",
    "😹🧑🏽‍🦰🧑🏽‍🦰😸👺👺😍😍😌😍🥰🥰🥰🥰🥰🥰🥰🥰🥰🥰🥰🥰😒😒😒😫😫😫😫😫😫😩😩😩😩😩😩😩😫😫😫😫😫😫😫😫😫😫😫🥵😬😬😬🙄🙄🙄🙄🙄😬😑😐🥶🥶🥶🥶🥶🥶🥶🥶😱😱😱😱🥵🥵🥶🥵🥵🥵🥵🥵🥵🥵🤮🥴🥴🤧🤧👶👶👶👶👥👥\n",
    "\n",
    "🥶🥶🥶😚c😚😚😋🥅🥅🥅🥅🥊🥊🥊🥊🥊🥊🥊🥊🛷🛷🛷🛷🛷🛷🪂🪂🪂🪂🪂🪂🪂🥋🥋🥋🥋🥋🥋🥋🥋🥋🥋🥋🥋🥋🥋🥋🥋🎽🥋🥋🥋🥋🥋🥋🥋🥋🥋🥋🥋⛷⛷⛷⛷⛷⛷⛷⛷⛷⛷⛷⛷⛷⛷⛷⛷⛷⛷m🎿🎿🎿🎿🎿🎿🎿🎿🎿🎿🎿🎿⛷⛷⛷⛷⛷⛷🛹🛹🛹🛹🛹🛹🤸🤸🤸🤸🤸🤸🤸🤸🤸🤸🤸🤸⛹️‍♂️⛹️‍♂️⛹🏻‍♀️⛹️‍♂️🤺🤺🤺\n"
   ]
  },
  {
   "cell_type": "code",
   "execution_count": 12,
   "id": "dcc3c4eb",
   "metadata": {},
   "outputs": [],
   "source": [
    "#ins.fetch_drifter_data()"
   ]
  },
  {
   "cell_type": "code",
   "execution_count": 13,
   "id": "c0152386",
   "metadata": {},
   "outputs": [],
   "source": [
    "dr = ins.load_drifter_data()\n",
    "dr_now = ins.extrapolate(dr)"
   ]
  },
  {
   "cell_type": "code",
   "execution_count": 14,
   "id": "691d116c",
   "metadata": {},
   "outputs": [],
   "source": [
    "anchor = \"0-4351896\"\n",
    "#..."
   ]
  },
  {
   "cell_type": "markdown",
   "id": "955ebc2b",
   "metadata": {},
   "source": [
    "---\n",
    "### monitoring"
   ]
  },
  {
   "cell_type": "code",
   "execution_count": 15,
   "id": "42ea4e0b",
   "metadata": {},
   "outputs": [],
   "source": [
    "%matplotlib inline"
   ]
  },
  {
   "cell_type": "code",
   "execution_count": null,
   "id": "1efe6ac6",
   "metadata": {},
   "outputs": [],
   "source": [
    "ins.monitor_drifters(refresh_time=5/60)"
   ]
  },
  {
   "cell_type": "code",
   "execution_count": null,
   "id": "c57e50af",
   "metadata": {},
   "outputs": [],
   "source": []
  },
  {
   "cell_type": "markdown",
   "id": "8871b6b6",
   "metadata": {},
   "source": [
    "---\n",
    "## ship tools: manual logging"
   ]
  },
  {
   "cell_type": "code",
   "execution_count": 16,
   "id": "e82e4423",
   "metadata": {},
   "outputs": [],
   "source": [
    "devices = list(dr)"
   ]
  },
  {
   "cell_type": "code",
   "execution_count": 17,
   "id": "572b8ffd",
   "metadata": {},
   "outputs": [],
   "source": [
    "#import ipywidgets as widgets\n",
    "#import datetime\n",
    "\n",
    "#from ipywidgets import GridspecLayout\n",
    "#from ipywidgets import Button, Layout, jslink, IntText, IntSlider\n",
    "\n",
    "#def create_expanded_button(description, button_style):\n",
    "#    return Button(description=description, button_style=button_style, layout=Layout(height='auto', width='auto'))\n"
   ]
  },
  {
   "cell_type": "code",
   "execution_count": null,
   "id": "03e9c45c",
   "metadata": {},
   "outputs": [],
   "source": []
  },
  {
   "cell_type": "code",
   "execution_count": 18,
   "id": "901fd2c8",
   "metadata": {},
   "outputs": [
    {
     "data": {
      "application/vnd.jupyter.widget-view+json": {
       "model_id": "3553d776c4eb44ad951efa4d1cb92f02",
       "version_major": 2,
       "version_minor": 0
      },
      "text/plain": [
       "GridspecLayout(children=(Dropdown(description='Device:', layout=Layout(grid_area='widget001'), options=(), val…"
      ]
     },
     "metadata": {},
     "output_type": "display_data"
    }
   ],
   "source": [
    "\n",
    "d = ins.dashboard()\n",
    "d.grid\n",
    "\n",
    "#"
   ]
  },
  {
   "cell_type": "code",
   "execution_count": null,
   "id": "b720bf55",
   "metadata": {},
   "outputs": [],
   "source": []
  },
  {
   "cell_type": "code",
   "execution_count": null,
   "id": "e7247ade",
   "metadata": {},
   "outputs": [],
   "source": []
  },
  {
   "cell_type": "code",
   "execution_count": 157,
   "id": "aca9222e",
   "metadata": {},
   "outputs": [],
   "source": []
  },
  {
   "cell_type": "markdown",
   "id": "37f9f6a3",
   "metadata": {},
   "source": [
    "---"
   ]
  },
  {
   "cell_type": "code",
   "execution_count": null,
   "id": "d93b5113",
   "metadata": {},
   "outputs": [],
   "source": []
  },
  {
   "cell_type": "code",
   "execution_count": null,
   "id": "b2aa769e",
   "metadata": {},
   "outputs": [],
   "source": [
    "\n",
    "class dashboard_speed(object):\n",
    "    \n",
    "    def __init__(self):\n",
    "        #\n",
    "        self.build_dashboard()\n",
    "        self.update() # time\n",
    "\n",
    "    def build_dashboard(self):\n",
    "        \n",
    "        w = dict()\n",
    "\n",
    "        w[\"button\"] = widgets.Button(\n",
    "            description='Compute',\n",
    "            disabled=False,\n",
    "            button_style='', # 'success', 'info', 'warning', 'danger' or ''\n",
    "            tooltip='Click me',\n",
    "            icon='check' # (FontAwesome names without the `fa-` prefix)\n",
    "        )\n",
    "        w[\"button\"].on_click(self.compute)\n",
    "\n",
    "        w[\"end_hour\"] = widgets.Dropdown(\n",
    "            options=np.arange(24),\n",
    "            description='End - hour:',\n",
    "            disabled=False,\n",
    "        )\n",
    "\n",
    "        w[\"end_minute\"] = widgets.Dropdown(\n",
    "            options=np.arange(60),\n",
    "            description='End - minute:',\n",
    "            disabled=False,\n",
    "        )\n",
    "\n",
    "        w[\"end_second\"] = widgets.Dropdown(\n",
    "            options=np.arange(60),\n",
    "            description='End - second:',\n",
    "            disabled=False,\n",
    "        )\n",
    "\n",
    "        w[\"end_lon_deg\"] = widgets.Dropdown(\n",
    "            options=[\"0W\"], # to be generalized\n",
    "            value=\"0W\",\n",
    "            description='End - lon [deg]:',\n",
    "            disabled=False,\n",
    "        )\n",
    "\n",
    "        w[\"end_lon_min\"] = widgets.Dropdown(\n",
    "            options=np.arange(60),\n",
    "            value=15,\n",
    "            description='End - lon - [min]:',\n",
    "            disabled=False,\n",
    "        )\n",
    "\n",
    "        w[\"end_lon_sec\"] = widgets.FloatSlider(\n",
    "            value=0.,\n",
    "            min=0,\n",
    "            max=60.0,\n",
    "            step=0.1, # 0.1 sec = 2m\n",
    "            description='End - lon [sec]:',\n",
    "            disabled=False,\n",
    "            continuous_update=False,\n",
    "            orientation='horizontal',\n",
    "            readout=True,\n",
    "            readout_format='.1f',\n",
    "        )\n",
    "\n",
    "        #w[\"end_lat_deg\"] = widgets.Dropdown(\n",
    "        #    options=[\"49N\"], # to be generalized\n",
    "        #    value=\"49N\",\n",
    "        #    description='End - lat [deg]:',\n",
    "        #    disabled=False,\n",
    "        #)\n",
    "\n",
    "        w[\"end_lat_min\"] = widgets.Dropdown(\n",
    "            options=np.arange(60),\n",
    "            value=19,\n",
    "            description='End - lat [min]:',\n",
    "            disabled=False,\n",
    "        )\n",
    "\n",
    "        w[\"end_lat_sec\"] = widgets.FloatSlider(\n",
    "            value=0.,\n",
    "            min=0,\n",
    "            max=60.0,\n",
    "            step=0.1, # 0.1 sec = 2m\n",
    "            description='End - lat [sec]:',\n",
    "            disabled=False,\n",
    "            continuous_update=False,\n",
    "            orientation='horizontal',\n",
    "            readout=True,\n",
    "            readout_format='.1f',\n",
    "        )\n",
    "\n",
    "        #\n",
    "        grid = widgets.GridspecLayout(4, 3, height='200px', align_items=\"center\")\n",
    "\n",
    "        #grid[0, 0] = w[\"device\"]\n",
    "        grid[0, 1] = w[\"button\"]\n",
    "\n",
    "        #\n",
    "        #grid[0, 2] = w[\"date\"]\n",
    "        grid[1, 2] = w[\"hour\"]\n",
    "        grid[2, 2] = w[\"minute\"]\n",
    "        #grid[3, 2] = w[\"second\"]\n",
    "\n",
    "        #\n",
    "        #grid[1, 0] = w[\"lon_deg\"]\n",
    "        grid[2, 0] = w[\"lon_min\"]\n",
    "        #grid[3, 0] = w[\"lon_sec\"]\n",
    "\n",
    "        #\n",
    "        #grid[1, 1] = w[\"lat_deg\"]\n",
    "        grid[2, 1] = w[\"lat_min\"]\n",
    "        #grid[3, 1] = w[\"lat_sec\"]\n",
    "\n",
    "        # store\n",
    "        self.grid = grid\n",
    "        self.w = w\n",
    "        \n",
    "    def update(self):\n",
    "        _now = datetime.utcnow()\n",
    "        self.w[\"date\"].value = _now\n",
    "        self.w[\"hour\"].value = _now.hour\n",
    "        self.w[\"minute\"].value = _now.minute\n",
    "        self.w[\"second\"].value = _now.second\n",
    "                \n",
    "    def register(self, button):\n",
    "        w = self.w\n",
    "        #\n",
    "        date = w[\"date\"].value\n",
    "        time = pd.Timestamp(year=date.year, month=date.month, day=date.day,\n",
    "                            hour=w[\"hour\"].value, minute=w[\"minute\"].value, second=w[\"second\"].value,\n",
    "                           )\n",
    "        #\n",
    "        lond = w[\"lon_deg\"].value\n",
    "        lon = float(lond[:-1])\n",
    "        if lond[-1]==\"W\":\n",
    "            sign = -1\n",
    "        else:\n",
    "            sign = 1\n",
    "        lon = sign * (lon + w[\"lon_min\"].value/60 + w[\"lon_sec\"].value/3600)\n",
    "        #\n",
    "        latd = w[\"lat_deg\"].value\n",
    "        lat = float(latd[:-1])\n",
    "        if latd[-1]==\"N\":\n",
    "            sign = 1\n",
    "        else:\n",
    "            sign = -1\n",
    "        lat = sign * (lat + w[\"lat_min\"].value/60 + w[\"lat_sec\"].value/3600)\n",
    "        #\n",
    "        s = pd.Series(dict(device=w[\"device\"].value,\n",
    "                           time=time,\n",
    "                           lon=lon,\n",
    "                           lat=lat,\n",
    "                          )\n",
    "                     )\n",
    "        # store\n",
    "        (s.to_frame().T\n",
    "         .rename_axis('event')\n",
    "         .to_csv(self.log, mode='a', header=not os.path.exists(self.log))\n",
    "        )\n",
    "        \n",
    "    def load_log(self):\n",
    "        \"\"\"load log file\"\"\"\n",
    "        df = pd.read_csv(d.log, parse_dates=[\"time\"])\n",
    "        return df"
   ]
  }
 ],
 "metadata": {
  "kernelspec": {
   "display_name": "Python 3 (ipykernel)",
   "language": "python",
   "name": "python3"
  },
  "language_info": {
   "codemirror_mode": {
    "name": "ipython",
    "version": 3
   },
   "file_extension": ".py",
   "mimetype": "text/x-python",
   "name": "python",
   "nbconvert_exporter": "python",
   "pygments_lexer": "ipython3",
   "version": "3.8.13"
  }
 },
 "nbformat": 4,
 "nbformat_minor": 5
}
