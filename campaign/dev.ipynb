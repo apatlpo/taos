{
 "cells": [
  {
   "cell_type": "markdown",
   "id": "e0cdff58",
   "metadata": {},
   "source": [
    "# TAOS drifter deployments: tool development\n",
    "\n",
    "\n",
    "- [ ] approximate time for deployment & currents (speed, direction)?\n",
    "- [ ] GPS position onboard delphy: degrés décimaux, deg/min decimaux, deg/min/sec ?\n",
    "- [ ] Outil de cartographie ? (rentrée positions)\n",
    "- [ ] Téléphone boosté?\n",
    "- [ ] Prise électrique à bord du Delphy: Oui\n",
    "\n",
    "Land tool:\n",
    "\n",
    "- [ ] automatic refresh: download and print in table\n",
    "- [ ] high res bathymetry: pas sûr\n",
    "\n",
    "Ship tool:\n",
    "\n",
    "- [ ] manual input of coordinates\n",
    "- [ ] update route with click\n",
    "\n",
    "\n",
    "[Marc](https://marc.ifremer.fr/resultats/courants/modeles_mars2d_atlantique_nord_est/(variable)/courant/(typevisu)/map/(zoneid)/7418/(type)/canvas#appTop)\n"
   ]
  },
  {
   "cell_type": "code",
   "execution_count": 1,
   "id": "3d1159e7",
   "metadata": {},
   "outputs": [],
   "source": [
    "import os\n",
    "from glob import glob\n",
    "\n",
    "from datetime import datetime\n",
    "from time import sleep\n",
    "\n",
    "import numpy as np\n",
    "import pandas as pd\n",
    "import xarray as xr\n",
    "\n",
    "import matplotlib.pyplot as plt\n",
    "import pyproj\n",
    "\n",
    "import taos.utils as ut\n",
    "import taos.insitu as ins\n",
    "from taos.insitu import rad2deg, knot, lonc, latc"
   ]
  },
  {
   "cell_type": "markdown",
   "id": "749ed28c-d2be-4ca9-9665-589343183840",
   "metadata": {},
   "source": [
    "---\n",
    "\n",
    "## useful metrics"
   ]
  },
  {
   "cell_type": "code",
   "execution_count": 2,
   "id": "21f2acb6",
   "metadata": {},
   "outputs": [
    {
     "name": "stdout",
     "output_type": "stream",
     "text": [
      " lon: 1 deg = 72.44km,  0.1 deg = 7.2km,  0.01 deg = 724.4m,  0.001 deg = 72.4m\n",
      " lon: 1 deg = 72.44km,  1 min = 1207.3m,  .1 min = 120.7m,  0.01 min = 12.1m\n",
      " lon: 1 deg = 72.44km,  1 sec = 20.1m,  .1 sec = 2.0m\n",
      "-----------------------------------------------------------------\n",
      " lat: 1 deg = 111.23km,  0.1 deg = 11.1km,  0.01 deg = 1112.2m,  0.001 deg = 111.2m\n",
      " lat: 1 deg = 111.23km,  1 min = 1853.7m,  .1 min = 185.4m,  0.01 min = 18.5m\n",
      " lat: 1 deg = 111.23km,  1 sec = 30.9m,  .1 sec = 3.1m\n"
     ]
    }
   ],
   "source": [
    "ins.metrics_cheatsheet(lonc, latc)"
   ]
  },
  {
   "cell_type": "markdown",
   "id": "79e1b194",
   "metadata": {},
   "source": [
    "🐷🐷🐷🐷🐨🌼🌼🌼💐💐🌾🌖🌾😋😋👩‍🦳👩‍🦳§😄😁😁😁😀😄😄(😃😄(😚😚😗)🙃😇😇😇😇🥳🥳😏🥳🥳😏🥳😏🥳)😡😡😡😡😡😡👹👹👹👺👺👺👾👽👾😿😿😿😸😹👍🖐🏻👉🏽👀👥👥👥👥👥👥👥🧑🏽‍🦰🧑🏽‍🦰👱‍♂️👱‍♂️👱‍♂️👱‍♂️😡🤕à🤕🤕🤒😷"
   ]
  },
  {
   "cell_type": "markdown",
   "id": "1a23921f-225d-49a1-b175-e85ac327844d",
   "metadata": {},
   "source": [
    "---\n",
    "\n",
    "## course resolution \n",
    "\n",
    "\\begin{align}\n",
    "\\delta x + u_o (\\delta t + t_w) = u_s \\cos(\\theta) \\delta t, \\\\\n",
    "\\delta y + v_o (\\delta t + t_w) = u_s \\sin(\\theta) \\delta t,\n",
    "\\end{align}\n"
   ]
  },
  {
   "cell_type": "code",
   "execution_count": 3,
   "id": "cb2bcd22",
   "metadata": {},
   "outputs": [
    {
     "name": "stderr",
     "output_type": "stream",
     "text": [
      "/Users/aponte/.miniconda3/envs/equinox/lib/python3.8/site-packages/scipy/optimize/optimize.py:282: RuntimeWarning: Values in x were outside bounds during a minimize step, clipping to bounds\n",
      "  warnings.warn(\"Values in x were outside bounds during a \"\n"
     ]
    },
    {
     "name": "stdout",
     "output_type": "stream",
     "text": [
      " New heading = -75.8 at 9.7 knots (5.0m/s), time to destination = 3.4min, waiting time: 5.0min\n"
     ]
    }
   ],
   "source": [
    "Uo = .5 + 1j*0 # m/s\n",
    "dX = 0 - 1j*1e3 # m\n",
    "speed = 10*0.5 # m/s\n",
    "time_waiting = 5*60 # seconds\n",
    "\n",
    "theta, dt, _, X_launch, Us = ins.solve_route_heading(dX, speed, Uo, time_waiting)\n",
    "\n",
    "print(f\" New heading = {theta*rad2deg:.1f} at {speed/knot:.1f} knots ({speed:.1f}m/s), \" \\\n",
    "      f\"time to destination = {dt/60:.1f}min, waiting time: {time_waiting/60:.1f}min\")"
   ]
  },
  {
   "cell_type": "code",
   "execution_count": 4,
   "id": "6ed0ff57-9cac-4390-bd3c-305a3e154d18",
   "metadata": {},
   "outputs": [
    {
     "data": {
      "image/png": "[encoded data removed]",
      "text/plain": [
       "<Figure size 432x288 with 1 Axes>"
      ]
     },
     "metadata": {
      "needs_background": "light"
     },
     "output_type": "display_data"
    }
   ],
   "source": [
    "ins.plot_route_solution(dX, Us, Uo, dt, time_waiting)"
   ]
  },
  {
   "cell_type": "markdown",
   "id": "1ba19f1d-08a1-4d2b-a0b0-d4497d894f57",
   "metadata": {},
   "source": [
    "---\n",
    "\n",
    "## deployment geometry"
   ]
  },
  {
   "cell_type": "code",
   "execution_count": 5,
   "id": "27e7ac84",
   "metadata": {},
   "outputs": [
    {
     "data": {
      "image/png": "[encoded data removed]",
      "text/plain": [
       "<Figure size 432x288 with 1 Axes>"
      ]
     },
     "metadata": {
      "needs_background": "light"
     },
     "output_type": "display_data"
    }
   ],
   "source": [
    "R, theta, N = 1e3, 0/rad2deg, 5\n",
    "#X, dX = ins.build_polygon(L, theta, N, rotation=1)\n",
    "X, dX = ins.build_square_with_center(R, theta, rotation=-1, center_loc=2)\n",
    "ins.plot_polygon(X, dX)"
   ]
  },
  {
   "cell_type": "code",
   "execution_count": 6,
   "id": "7d071c12-3412-417c-a233-6702c8a9ba7d",
   "metadata": {},
   "outputs": [
    {
     "data": {
      "text/html": [
       "<div>\n",
       "<style scoped>\n",
       "    .dataframe tbody tr th:only-of-type {\n",
       "        vertical-align: middle;\n",
       "    }\n",
       "\n",
       "    .dataframe tbody tr th {\n",
       "        vertical-align: top;\n",
       "    }\n",
       "\n",
       "    .dataframe thead th {\n",
       "        text-align: right;\n",
       "    }\n",
       "</style>\n",
       "<table border=\"1\" class=\"dataframe\">\n",
       "  <thead>\n",
       "    <tr style=\"text-align: right;\">\n",
       "      <th></th>\n",
       "      <th>System</th>\n",
       "      <th>lon</th>\n",
       "      <th>lat</th>\n",
       "    </tr>\n",
       "  </thead>\n",
       "  <tbody>\n",
       "    <tr>\n",
       "      <th>Epave nord Ouistreham</th>\n",
       "      <td>release</td>\n",
       "      <td>-0.246717</td>\n",
       "      <td>49.374433</td>\n",
       "    </tr>\n",
       "    <tr>\n",
       "      <th>LSTOuistreham</th>\n",
       "      <td>buoy</td>\n",
       "      <td>-0.246754</td>\n",
       "      <td>49.340379</td>\n",
       "    </tr>\n",
       "    <tr>\n",
       "      <th>Luc</th>\n",
       "      <td>buoy</td>\n",
       "      <td>-0.307225</td>\n",
       "      <td>49.345653</td>\n",
       "    </tr>\n",
       "  </tbody>\n",
       "</table>\n",
       "</div>"
      ],
      "text/plain": [
       "                        System       lon        lat\n",
       "Epave nord Ouistreham  release -0.246717  49.374433\n",
       "LSTOuistreham             buoy -0.246754  49.340379\n",
       "Luc                       buoy -0.307225  49.345653"
      ]
     },
     "execution_count": 6,
     "metadata": {},
     "output_type": "execute_result"
    }
   ],
   "source": [
    "ins.stations"
   ]
  },
  {
   "cell_type": "code",
   "execution_count": 7,
   "id": "5159b112-8ad2-407c-993d-243c1f488cd7",
   "metadata": {},
   "outputs": [],
   "source": [
    "#lon_a, lat_a = -0.25, 49.33 # anchor point\n",
    "anchor = ins.stations.loc[\"LSTOuistreham\"]\n",
    "lon_a, lat_a = anchor[\"lon\"], anchor[\"lat\"]\n",
    "\n",
    "center_loc = 2\n",
    "lon, lat, X = ins.build_square_geo(lon_a, lat_a, R, theta, rotation=-1, center_loc=center_loc)"
   ]
  },
  {
   "cell_type": "markdown",
   "id": "d2ae0222-944c-49d5-8d4d-ee0ecd0fde9b",
   "metadata": {},
   "source": [
    "### build a radiator for hydrological measurements"
   ]
  },
  {
   "cell_type": "code",
   "execution_count": 8,
   "id": "1bd4db40-bacb-49d8-853d-cd4d15c7e999",
   "metadata": {},
   "outputs": [
    {
     "name": "stdout",
     "output_type": "stream",
     "text": [
      "(0.7071067811865476+0.7071067811865476j)\n",
      "Distance 11.45421351814062 NM\n"
     ]
    },
    {
     "data": {
      "text/plain": [
       "(-1944.543648263006, 1944.543648263006, -1944.543648263006, 1944.543648263006)"
      ]
     },
     "execution_count": 8,
     "metadata": {},
     "output_type": "execute_result"
    },
    {
     "data": {
      "image/png": "[encoded data removed]",
      "text/plain": [
       "<Figure size 432x288 with 1 Axes>"
      ]
     },
     "metadata": {
      "needs_background": "light"
     },
     "output_type": "display_data"
    }
   ],
   "source": [
    "# find the square center\n",
    "lonc, latc = lon[center_loc], lat[center_loc]\n",
    "xc, yc = ins.ll2xy(lonc, latc)\n",
    "    \n",
    "dX_radiator, length_radiator = ins.radiator(2.5*R, 5, theta)\n",
    "\n",
    "plt.plot(dX_radiator.real, dX_radiator.imag)\n",
    "plt.axis(\"equal\")"
   ]
  },
  {
   "cell_type": "code",
   "execution_count": 9,
   "id": "b28c9fb6-bb16-4483-8116-22da0e6f9f66",
   "metadata": {},
   "outputs": [
    {
     "name": "stdout",
     "output_type": "stream",
     "text": [
      "Point 0: -0.0W 14.168  49.0N 21.376\n",
      "Point 1: -0.0W 17.088  49.0N 21.379\n",
      "Point 2: -0.0W 17.089  49.0N 20.902\n",
      "Point 3: -0.0W 14.170  49.0N 20.899\n",
      "Point 4: -0.0W 14.171  49.0N 20.422\n",
      "Point 5: -0.0W 17.090  49.0N 20.425\n",
      "Point 6: -0.0W 17.091  49.0N 19.949\n",
      "Point 7: -0.0W 14.173  49.0N 19.945\n",
      "Point 8: -0.0W 14.175  49.0N 19.468\n",
      "Point 9: -0.0W 17.093  49.0N 19.472\n"
     ]
    }
   ],
   "source": [
    "# convert to lon/lat\n",
    "x_radiator = xc + dX_radiator.real\n",
    "y_radiator = yc + dX_radiator.imag\n",
    "lon_radiator, lat_radiator = ins.xy2ll(x_radiator, y_radiator)\n",
    "\n",
    "i=0\n",
    "for _lon, _lat in zip(lon_radiator, lat_radiator):\n",
    "    _lon_deg, _lon_min = ins.deg_mindec(_lon)\n",
    "    _lat_deg, _lat_min = ins.deg_mindec(_lat)\n",
    "    if _lon_deg<=0:\n",
    "        EW=\"W\"\n",
    "    else:\n",
    "        EW=\"E\"\n",
    "    print(f\"Point {i}: {_lon_deg}{EW} {_lon_min:.3f}  {_lat_deg}N {_lat_min:.3f}\")\n",
    "    i+=1"
   ]
  },
  {
   "cell_type": "markdown",
   "id": "29889042-8148-4ebf-8db1-1df05bd68054",
   "metadata": {},
   "source": [
    "### first drifter deployment coordinates"
   ]
  },
  {
   "cell_type": "code",
   "execution_count": 10,
   "id": "578a1de2-6bf0-48cf-976c-86ca88ba5fd1",
   "metadata": {},
   "outputs": [
    {
     "name": "stdout",
     "output_type": "stream",
     "text": [
      "Anchor: -0.0W 14.805  49.0N 20.423\n"
     ]
    }
   ],
   "source": [
    "_lon_deg, _lon_min = ins.deg_mindec(lon_a)\n",
    "_lat_deg, _lat_min = ins.deg_mindec(lat_a)\n",
    "\n",
    "print(f\"Anchor: {_lon_deg}{EW} {_lon_min:.3f}  {_lat_deg}N {_lat_min:.3f}\")"
   ]
  },
  {
   "cell_type": "markdown",
   "id": "e4f03ed3-010a-4572-a78a-abb6c9a7f165",
   "metadata": {},
   "source": [
    "### plot the overall deployment"
   ]
  },
  {
   "cell_type": "code",
   "execution_count": 11,
   "id": "9fb1c209",
   "metadata": {},
   "outputs": [
    {
     "data": {
      "text/plain": [
       "[<matplotlib.lines.Line2D at 0x7f9e9e62e2b0>]"
      ]
     },
     "execution_count": 11,
     "metadata": {},
     "output_type": "execute_result"
    },
    {
     "data": {
      "image/png": "[encoded data removed]",
      "text/plain": [
       "<Figure size 720x720 with 2 Axes>"
      ]
     },
     "metadata": {
      "needs_background": "light"
     },
     "output_type": "display_data"
    }
   ],
   "source": [
    "fac = ut.plot_bs(bathy=True, zoom=[-.4, -.1, 49.27, 49.4], vmax=30, figsize=(10,10))\n",
    "ax = fac[\"ax\"]\n",
    "\n",
    "ax.scatter(lon, lat, 30, color=\"orange\", transform=ut.ccrs.PlateCarree())\n",
    "\n",
    "for i in range(lon.size):\n",
    "    ax.text(lon[i]+1e-3, lat[i], f\"{i}\", transform=ut.ccrs.PlateCarree())\n",
    "\n",
    "_s = ins.stations\n",
    "ax.scatter(_s.lon, _s.lat, 20, color=\"black\", marker=\"*\", transform=ut.ccrs.PlateCarree())\n",
    "\n",
    "ax.scatter(lon_radiator, lat_radiator, 20, color=\"red\", marker=\"*\", transform=ut.ccrs.PlateCarree())\n",
    "ax.plot(lon_radiator, lat_radiator, color=\"red\", transform=ut.ccrs.PlateCarree())"
   ]
  },
  {
   "cell_type": "markdown",
   "id": "1da5c407-b7ec-40c9-929d-f37db60c1eae",
   "metadata": {},
   "source": [
    "### solve route for drifter deployments"
   ]
  },
  {
   "cell_type": "code",
   "execution_count": 15,
   "id": "0e956a7d-4488-417c-b47e-872ff2d5de2a",
   "metadata": {},
   "outputs": [
    {
     "name": "stderr",
     "output_type": "stream",
     "text": [
      "/Users/aponte/.miniconda3/envs/equinox/lib/python3.8/site-packages/scipy/optimize/optimize.py:282: RuntimeWarning: Values in x were outside bounds during a minimize step, clipping to bounds\n",
      "  warnings.warn(\"Values in x were outside bounds during a \"\n"
     ]
    },
    {
     "data": {
      "text/html": [
       "<div>\n",
       "<style scoped>\n",
       "    .dataframe tbody tr th:only-of-type {\n",
       "        vertical-align: middle;\n",
       "    }\n",
       "\n",
       "    .dataframe tbody tr th {\n",
       "        vertical-align: top;\n",
       "    }\n",
       "\n",
       "    .dataframe thead th {\n",
       "        text-align: right;\n",
       "    }\n",
       "</style>\n",
       "<table border=\"1\" class=\"dataframe\">\n",
       "  <thead>\n",
       "    <tr style=\"text-align: right;\">\n",
       "      <th></th>\n",
       "      <th>time</th>\n",
       "      <th>lon</th>\n",
       "      <th>lat</th>\n",
       "      <th>heading</th>\n",
       "      <th>dt_route</th>\n",
       "      <th>dt_total</th>\n",
       "      <th>lon_deg</th>\n",
       "      <th>lon_min</th>\n",
       "      <th>lat_deg</th>\n",
       "      <th>lat_min</th>\n",
       "    </tr>\n",
       "    <tr>\n",
       "      <th>deployment</th>\n",
       "      <th></th>\n",
       "      <th></th>\n",
       "      <th></th>\n",
       "      <th></th>\n",
       "      <th></th>\n",
       "      <th></th>\n",
       "      <th></th>\n",
       "      <th></th>\n",
       "      <th></th>\n",
       "      <th></th>\n",
       "    </tr>\n",
       "  </thead>\n",
       "  <tbody>\n",
       "    <tr>\n",
       "      <th>-1</th>\n",
       "      <td>2022-05-10 21:06:57.947758000</td>\n",
       "      <td>-0.246754</td>\n",
       "      <td>49.340379</td>\n",
       "      <td>NaN</td>\n",
       "      <td>NaN</td>\n",
       "      <td>NaN</td>\n",
       "      <td>-0.0</td>\n",
       "      <td>14.805240</td>\n",
       "      <td>49.0</td>\n",
       "      <td>20.422740</td>\n",
       "    </tr>\n",
       "    <tr>\n",
       "      <th>0</th>\n",
       "      <td>2022-05-10 21:11:58.947758000</td>\n",
       "      <td>-0.246819</td>\n",
       "      <td>49.340393</td>\n",
       "      <td>-3.455752</td>\n",
       "      <td>0.016667</td>\n",
       "      <td>5.016667</td>\n",
       "      <td>-0.0</td>\n",
       "      <td>14.809163</td>\n",
       "      <td>49.0</td>\n",
       "      <td>20.423579</td>\n",
       "    </tr>\n",
       "    <tr>\n",
       "      <th>1</th>\n",
       "      <td>2022-05-10 21:21:41.790469938</td>\n",
       "      <td>-0.260605</td>\n",
       "      <td>49.331419</td>\n",
       "      <td>-2.356194</td>\n",
       "      <td>4.714045</td>\n",
       "      <td>9.714045</td>\n",
       "      <td>-0.0</td>\n",
       "      <td>15.636315</td>\n",
       "      <td>49.0</td>\n",
       "      <td>19.885137</td>\n",
       "    </tr>\n",
       "    <tr>\n",
       "      <th>2</th>\n",
       "      <td>2022-05-10 21:30:01.790469719</td>\n",
       "      <td>-0.260580</td>\n",
       "      <td>49.340410</td>\n",
       "      <td>1.570796</td>\n",
       "      <td>3.333333</td>\n",
       "      <td>8.333333</td>\n",
       "      <td>-0.0</td>\n",
       "      <td>15.634790</td>\n",
       "      <td>49.0</td>\n",
       "      <td>20.424625</td>\n",
       "    </tr>\n",
       "    <tr>\n",
       "      <th>3</th>\n",
       "      <td>2022-05-10 21:38:21.790469717</td>\n",
       "      <td>-0.274340</td>\n",
       "      <td>49.340426</td>\n",
       "      <td>-3.141593</td>\n",
       "      <td>3.333333</td>\n",
       "      <td>8.333333</td>\n",
       "      <td>-0.0</td>\n",
       "      <td>16.460417</td>\n",
       "      <td>49.0</td>\n",
       "      <td>20.425574</td>\n",
       "    </tr>\n",
       "    <tr>\n",
       "      <th>4</th>\n",
       "      <td>2022-05-10 21:48:04.633182094</td>\n",
       "      <td>-0.260554</td>\n",
       "      <td>49.349402</td>\n",
       "      <td>0.785398</td>\n",
       "      <td>4.714045</td>\n",
       "      <td>9.714045</td>\n",
       "      <td>-0.0</td>\n",
       "      <td>15.633264</td>\n",
       "      <td>49.0</td>\n",
       "      <td>20.964113</td>\n",
       "    </tr>\n",
       "  </tbody>\n",
       "</table>\n",
       "</div>"
      ],
      "text/plain": [
       "                                    time       lon        lat   heading  \\\n",
       "deployment                                                                \n",
       "-1         2022-05-10 21:06:57.947758000 -0.246754  49.340379       NaN   \n",
       " 0         2022-05-10 21:11:58.947758000 -0.246819  49.340393 -3.455752   \n",
       " 1         2022-05-10 21:21:41.790469938 -0.260605  49.331419 -2.356194   \n",
       " 2         2022-05-10 21:30:01.790469719 -0.260580  49.340410  1.570796   \n",
       " 3         2022-05-10 21:38:21.790469717 -0.274340  49.340426 -3.141593   \n",
       " 4         2022-05-10 21:48:04.633182094 -0.260554  49.349402  0.785398   \n",
       "\n",
       "            dt_route  dt_total  lon_deg    lon_min  lat_deg    lat_min  \n",
       "deployment                                                              \n",
       "-1               NaN       NaN     -0.0  14.805240     49.0  20.422740  \n",
       " 0          0.016667  5.016667     -0.0  14.809163     49.0  20.423579  \n",
       " 1          4.714045  9.714045     -0.0  15.636315     49.0  19.885137  \n",
       " 2          3.333333  8.333333     -0.0  15.634790     49.0  20.424625  \n",
       " 3          3.333333  8.333333     -0.0  16.460417     49.0  20.425574  \n",
       " 4          4.714045  9.714045     -0.0  15.633264     49.0  20.964113  "
      ]
     },
     "execution_count": 15,
     "metadata": {},
     "output_type": "execute_result"
    }
   ],
   "source": [
    "# anchor point\n",
    "#L, theta = 2e3, 0/rad2deg\n",
    "#lon_a, lat_a = -0.25, 49.33\n",
    "\n",
    "Uo = 0.0*.15 + 1j*0 # m/s\n",
    "speed = 10*0.5 # m/s\n",
    "time_waiting = 5*60 # seconds\n",
    "\n",
    "lon, lat, X = ins.build_square_geo(lon_a, lat_a, R, theta, rotation=-1, center_loc=2)\n",
    "\n",
    "# deployment at ship location\n",
    "df = ins.deployments_route_schedule(lon_a, lat_a, speed, lon, lat, time_waiting, Uo)\n",
    "# deployment at predetermined anchor location\n",
    "#df = ins.deployments_route_schedule(lon_a-0.02, lat_a, speed, lon, lat, time_waiting, Uo\n",
    "#                    lon_a=lon_a, lat_a=lat_a,\n",
    "#                   )\n",
    "# underway deployment at location 2 and beyond\n",
    "#df = ins.deployments_route_schedule(lon_a-0.02, lat_a, speed, lon, lat, time_waiting, Uo\n",
    "#                    lon_a=lon_a, lat_a=lat_a, time_a=now()-pd.Timedelta(\"1min\"),\n",
    "#                    skip=2,\n",
    "#                   )\n",
    "\n",
    "df"
   ]
  },
  {
   "cell_type": "code",
   "execution_count": 16,
   "id": "b7c40561-2071-4c18-99df-cdcd3f2f0cf7",
   "metadata": {},
   "outputs": [
    {
     "data": {
      "image/png": "[encoded data removed]",
      "text/plain": [
       "<Figure size 720x720 with 2 Axes>"
      ]
     },
     "metadata": {
      "needs_background": "light"
     },
     "output_type": "display_data"
    }
   ],
   "source": [
    "ins.plot_deployments_route(lon, lat, df, bathy=True)"
   ]
  },
  {
   "cell_type": "code",
   "execution_count": 17,
   "id": "bd0d0782-9386-4a36-a29c-879836b72cba",
   "metadata": {},
   "outputs": [],
   "source": [
    "# debug\n",
    "if False:\n",
    "    #opts = dict(n=256, options=dict(disp=True))\n",
    "    #opts = dict(n=512)\n",
    "    _dX = dX[0]\n",
    "    theta, dt_route, dt_total, X_launch, Us = ins.solve_route_heading(_dX, speed, Uo, time_waiting)\n",
    "    ins.plot_route_solution(_dX, Us, Uo, dt_route, time_waiting)\n",
    "    theta*rad2deg, dt_route/60, dt_total/60, X_launch, Us"
   ]
  },
  {
   "cell_type": "code",
   "execution_count": 18,
   "id": "c2cda7d3-35e2-4ec9-869e-599028e99cc2",
   "metadata": {},
   "outputs": [],
   "source": [
    "import ipywidgets as widgets\n",
    "from IPython.display import display, clear_output\n",
    "\n",
    "from datetime import datetime\n",
    "\n",
    "solve_route_heading = ins.solve_route_heading\n",
    "ll2xy = ins.ll2xy\n",
    "xy2ll = ins.xy2ll\n",
    "now = ins.now\n",
    "one_second = ins.one_second\n",
    "knot = ins.knot\n",
    "\n",
    "deg_mindec = ins.deg_mindec"
   ]
  },
  {
   "cell_type": "code",
   "execution_count": 19,
   "id": "c8bcc2ad-585a-4bf2-8fd4-bcfa203a90f5",
   "metadata": {},
   "outputs": [
    {
     "data": {
      "application/vnd.jupyter.widget-view+json": {
       "model_id": "a3fb6f5d77a64189a0b8cd0e7fd31968",
       "version_major": 2,
       "version_minor": 0
      },
      "text/plain": [
       "Output()"
      ]
     },
     "metadata": {},
     "output_type": "display_data"
    },
    {
     "name": "stderr",
     "output_type": "stream",
     "text": [
      "/Users/aponte/.miniconda3/envs/equinox/lib/python3.8/site-packages/scipy/optimize/optimize.py:282: RuntimeWarning: Values in x were outside bounds during a minimize step, clipping to bounds\n",
      "  warnings.warn(\"Values in x were outside bounds during a \"\n"
     ]
    },
    {
     "data": {
      "application/vnd.jupyter.widget-view+json": {
       "model_id": "cc33a8c2e72c4723af986e14755d3a6e",
       "version_major": 2,
       "version_minor": 0
      },
      "text/plain": [
       "GridspecLayout(children=(Button(description='Update', icon='check', layout=Layout(grid_area='widget001'), styl…"
      ]
     },
     "metadata": {},
     "output_type": "display_data"
    }
   ],
   "source": [
    "\n",
    "\n",
    "class dashboard_route(object):\n",
    "    \n",
    "    def __init__(self, lon, lat, **kwargs):\n",
    "        #\n",
    "        self.lon_vertices = lon\n",
    "        self.lat_vertices = lat\n",
    "        #\n",
    "        self.update_num=0\n",
    "\n",
    "        self.out = widgets.Output()\n",
    "        display(self.out)\n",
    "\n",
    "        self.build_dashboard(**kwargs)\n",
    "        self.update(None) # time, devices\n",
    "\n",
    "\n",
    "    def build_dashboard(self, **kwargs):\n",
    "        \n",
    "        dkwargs = dict(ship_speed=5., square_radius=1., square_theta=0., square_center=2, time_waiting=1.)\n",
    "        dkwargs.update(**kwargs)\n",
    "        \n",
    "        w = dict()\n",
    "        \n",
    "\n",
    "        w[\"button\"] = widgets.Button(\n",
    "            description='Update',\n",
    "            disabled=False,\n",
    "            button_style='', # 'success', 'info', 'warning', 'danger' or ''\n",
    "            tooltip='Update',\n",
    "            icon='check' # (FontAwesome names without the `fa-` prefix)\n",
    "        )\n",
    "        w[\"button\"].on_click(self.update)\n",
    "        \n",
    "        w[\"ship_speed\"] = widgets.FloatSlider(\n",
    "            value=dkwargs[\"ship_speed\"],\n",
    "            min=1.,\n",
    "            max=15.0,\n",
    "            step=0.5, # 0.1 sec = 2m\n",
    "            description='Ship speed [knots]:',\n",
    "            disabled=False,\n",
    "            continuous_update=False,\n",
    "            orientation='horizontal',\n",
    "            readout=True,\n",
    "            readout_format='.1f',\n",
    "        )\n",
    "        \n",
    "        w[\"current_speed_x\"] = widgets.FloatSlider(\n",
    "            value=.5,\n",
    "            min=-2.,\n",
    "            max=2.,\n",
    "            step=0.01, # 0.1 sec = 2m\n",
    "            description='Current speed x [m/s]:',\n",
    "            disabled=False,\n",
    "            continuous_update=False,\n",
    "            orientation='horizontal',\n",
    "            readout=True,\n",
    "            readout_format='.2f',\n",
    "        )\n",
    "\n",
    "        w[\"current_speed_y\"] = widgets.FloatSlider(\n",
    "            value=0.5,\n",
    "            min=-2.,\n",
    "            max=2.,\n",
    "            step=0.01, # 0.1 sec = 2m\n",
    "            description='Current speed y [m/s]:',\n",
    "            disabled=False,\n",
    "            continuous_update=False,\n",
    "            orientation='horizontal',\n",
    "            readout=True,\n",
    "            readout_format='.2f',\n",
    "        )\n",
    "        \n",
    "        _now = datetime.utcnow()\n",
    "        self.now = _now\n",
    "        \n",
    "        _lon_deg, _lon_min = deg_mindec(self.lon_vertices[0])\n",
    "        _lat_deg, _lat_min = deg_mindec(self.lat_vertices[0])\n",
    "        for suff in [\"ship\", \"anchor\"]:\n",
    "\n",
    "            w[suff+\"_lon_deg\"] = widgets.Dropdown(\n",
    "                options=[\"0W\"], # to be generalized\n",
    "                value=\"0W\",\n",
    "                description=suff+' lon - deg:',\n",
    "                disabled=False,\n",
    "            )\n",
    "\n",
    "            w[suff+\"_lon_min\"] = widgets.BoundedFloatText(\n",
    "                value=_lon_min,\n",
    "                min=0.,\n",
    "                max=60.0,\n",
    "                step=0.001,\n",
    "                description='lon min dec:',\n",
    "                disabled=False\n",
    "            )\n",
    "            \n",
    "            #widgets.Dropdown(\n",
    "            #    options=np.arange(60),\n",
    "            #    value=15,\n",
    "            #    description=suff+' lon [min]:',\n",
    "            #    disabled=False,\n",
    "            #)\n",
    "                        \n",
    "            #w[suff+\"_lon_sec\"] = widgets.FloatSlider(\n",
    "            #    value=0,\n",
    "            #    min=0,\n",
    "            #    max=60.0,\n",
    "            #    step=0.1, # 0.1 sec = 2m\n",
    "            #    description=suff+' lon [sec]:',\n",
    "            #    disabled=False,\n",
    "            #    continuous_update=False,\n",
    "            #    orientation='horizontal',\n",
    "            #    readout=True,\n",
    "            #    readout_format='.1f',\n",
    "            #)\n",
    "\n",
    "            w[suff+\"_lat_deg\"] = widgets.Dropdown(\n",
    "                options=[\"49N\"], # to be generalized\n",
    "                value=\"49N\",\n",
    "                description=suff+' lat [deg]:',\n",
    "                disabled=False,\n",
    "            )\n",
    "\n",
    "            \n",
    "            w[suff+\"_lat_min\"] = widgets.BoundedFloatText(\n",
    "                value=_lat_min,\n",
    "                min=0.,\n",
    "                max=60.0,\n",
    "                step=0.001,\n",
    "                description='lat min dec:',\n",
    "                disabled=False\n",
    "            )\n",
    "            \n",
    "            #w[suff+\"_lat_min\"] = widgets.Dropdown(\n",
    "            #    options=np.arange(60),\n",
    "            #    value=19,\n",
    "            #    description=suff+' lat [min]:',\n",
    "            #    disabled=False,\n",
    "            #)\n",
    "\n",
    "            w[suff+\"_lat_sec\"] = widgets.FloatSlider(\n",
    "                value=0.,\n",
    "                min=0,\n",
    "                max=60.0,\n",
    "                step=0.1, # 0.1 sec = 2m\n",
    "                description=suff+' lat - sec:',\n",
    "                disabled=False,\n",
    "                continuous_update=False,\n",
    "                orientation='horizontal',\n",
    "                readout=True,\n",
    "                readout_format='.1f',\n",
    "            )\n",
    "            \n",
    "            w[suff+\"_hour\"] = widgets.Dropdown(\n",
    "                options=np.arange(24),\n",
    "                description=suff+' hour:',\n",
    "                disabled=False,\n",
    "                value=_now.hour,\n",
    "            )\n",
    "\n",
    "            w[suff+\"_minute\"] = widgets.Dropdown(\n",
    "                options=np.arange(60),\n",
    "                description=suff+' minute:',\n",
    "                disabled=False,\n",
    "                value=_now.minute,\n",
    "            )\n",
    "\n",
    "            w[suff+\"_second\"] = widgets.Dropdown(\n",
    "                options=np.arange(60),\n",
    "                description=suff+' second:',\n",
    "                disabled=False,\n",
    "                value=_now.second,\n",
    "            )\n",
    "            \n",
    "\n",
    "        w[\"square_radius\"] = widgets.FloatSlider(\n",
    "            value=dkwargs[\"square_radius\"],\n",
    "            min=.1,\n",
    "            max=10.0,\n",
    "            step=0.1, # 0.1 sec = 2m\n",
    "            description='Square radius [km]:',\n",
    "            disabled=False,\n",
    "            continuous_update=False,\n",
    "            orientation='horizontal',\n",
    "            readout=True,\n",
    "            readout_format='.1f',\n",
    "        )\n",
    "            \n",
    "        w[\"square_theta\"] = widgets.FloatSlider(\n",
    "            value=dkwargs[\"square_theta\"],\n",
    "            min=-90.,\n",
    "            max=90.0,\n",
    "            step=2., # 0.1 sec = 2m\n",
    "            description='Square orientation [deg]:',\n",
    "            disabled=False,\n",
    "            continuous_update=False,\n",
    "            orientation='horizontal',\n",
    "            readout=True,\n",
    "            readout_format='.0f',\n",
    "        )\n",
    "\n",
    "        w[\"square_center\"] = widgets.Dropdown(\n",
    "            options=np.arange(5),\n",
    "            value=dkwargs[\"square_center\"],\n",
    "            description='Center index',\n",
    "            disabled=False,\n",
    "        )\n",
    "        \n",
    "        w[\"time_waiting\"] = widgets.FloatSlider(\n",
    "            value=dkwargs[\"time_waiting\"],\n",
    "            min=1.,\n",
    "            max=30.0,\n",
    "            step=1., # 0.1 sec = 2m\n",
    "            description='Time waiting [min]:',\n",
    "            disabled=False,\n",
    "            continuous_update=False,\n",
    "            orientation='horizontal',\n",
    "            readout=True,\n",
    "            readout_format='.0f',\n",
    "        )        \n",
    "        \n",
    "        w[\"skip\"] = widgets.Dropdown(\n",
    "            options=np.arange(5),\n",
    "            value=0,\n",
    "            description='Skip index',\n",
    "            disabled=False,\n",
    "        )\n",
    "            \n",
    "            \n",
    "        #\n",
    "        grid = widgets.GridspecLayout(10, 3, height='400px', align_items=\"center\")\n",
    "\n",
    "        i=0\n",
    "        grid[0, 0] = w[\"button\"]\n",
    "        i+=1\n",
    "\n",
    "        #\n",
    "        grid[i, 0] = w[\"ship_speed\"]\n",
    "        grid[i, 1] = w[\"current_speed_x\"]\n",
    "        grid[i, 2] = w[\"current_speed_y\"]\n",
    "        i+=1\n",
    "\n",
    "        for suff in [\"ship\", \"anchor\"]:\n",
    "\n",
    "            grid[i, 0] = w[suff+\"_lon_deg\"]\n",
    "            grid[i, 1] = w[suff+\"_lon_min\"]\n",
    "            #grid[i, 2] = w[suff+\"_lon_sec\"]\n",
    "            i+=1\n",
    "\n",
    "            grid[i, 0] = w[suff+\"_lat_deg\"]\n",
    "            grid[i, 1] = w[suff+\"_lat_min\"]\n",
    "            #grid[i, 2] = w[suff+\"_lat_sec\"]\n",
    "            i+=1\n",
    "            \n",
    "            # time\n",
    "            if suff!=\"ship\":\n",
    "                grid[i, 0] = w[suff+\"_hour\"]\n",
    "                grid[i, 1] = w[suff+\"_minute\"]\n",
    "                grid[i, 2] = w[suff+\"_second\"]\n",
    "                i+=1\n",
    "\n",
    "        grid[i, 0] = w[\"square_radius\"]\n",
    "        grid[i, 1] = w[\"square_theta\"]\n",
    "        grid[i, 2] = w[\"square_center\"]\n",
    "        i+=1\n",
    "\n",
    "        grid[i, 0] = w[\"time_waiting\"]\n",
    "        grid[i, 1] = w[\"skip\"]\n",
    "            \n",
    "        # store\n",
    "        self.grid = grid\n",
    "        self.w = w\n",
    "        \n",
    "    def update(self, button):\n",
    "        #_now = datetime.utcnow()\n",
    "        w = self.w\n",
    "        \n",
    "        #self.w[\"date\"].value = _now\n",
    "        #self.w[\"hour\"].value = _now.hour\n",
    "        #self.w[\"minute\"].value = _now.minute\n",
    "        #self.w[\"second\"].value = _now.second\n",
    "        ll = {}\n",
    "        for suff in [\"ship\", \"anchor\"]:\n",
    "            lond = w[suff+\"_lon_deg\"].value\n",
    "            lon = float(lond[:-1])\n",
    "            if lond[-1]==\"W\":\n",
    "                sign = -1\n",
    "            else:\n",
    "                sign = 1\n",
    "            #lon = sign * (lon + w[suff+\"_lon_min\"].value/60 + w[suff+\"_lon_sec\"].value/3600)\n",
    "            lon = sign * (lon + w[suff+\"_lon_min\"].value/60)\n",
    "            #\n",
    "            latd = w[suff+\"_lat_deg\"].value\n",
    "            lat = float(latd[:-1])\n",
    "            if latd[-1]==\"N\":\n",
    "                sign = 1\n",
    "            else:\n",
    "                sign = -1\n",
    "            #lat = sign * (lat + w[suff+\"_lat_min\"].value/60 + w[suff+\"_lat_sec\"].value/3600)\n",
    "            lat = sign * (lat + w[suff+\"_lat_min\"].value/60)\n",
    "            ll[suff] = dict(lon=lon, lat=lat)\n",
    "        ocean_current = w[\"current_speed_x\"].value + 1j*w[\"current_speed_y\"].value\n",
    "        time_waiting = w[\"time_waiting\"].value*60. # converts to seconds\n",
    "        date = self.now\n",
    "        time_a = pd.Timestamp(year=date.year, month=date.month, day=date.day,\n",
    "                              hour=w[\"anchor_hour\"].value, minute=w[\"anchor_minute\"].value, second=w[\"anchor_second\"].value,\n",
    "                             )\n",
    "        df = ins.deployments_route_schedule(ll[\"ship\"][\"lon\"], ll[\"ship\"][\"lat\"], \n",
    "                                            w[\"ship_speed\"].value*knot,\n",
    "                                            self.lon_vertices, self.lat_vertices,\n",
    "                                            time_waiting,\n",
    "                                            ocean_current,\n",
    "                                            ll[\"anchor\"][\"lon\"], ll[\"anchor\"][\"lat\"], time_a=time_a,\n",
    "                                            skip=w[\"skip\"].value,\n",
    "                                            )\n",
    "                \n",
    "        with self.out:\n",
    "            clear_output()\n",
    "            print(f\"New hello from each button click!. This hello from {self.update_num}\")\n",
    "            for label, r in df.iterrows():\n",
    "                _lon_deg, _lon_min = deg_mindec(r.lon)\n",
    "                _lat_deg, _lat_min = deg_mindec(r.lat)\n",
    "                if _lon_deg<=0:\n",
    "                    EW=\"W\"\n",
    "                else:\n",
    "                    EW=\"E\"\n",
    "                time = r.time.strftime(\"%Y/%m/%d %H:%M:%S\")\n",
    "                print(f\" drifter {label}: {_lon_deg}{EW} {_lon_min:.3f}  {_lat_deg}N {_lat_min:.3f} \"\\\n",
    "                      f\"at {time}\")\n",
    "            print(df)\n",
    "            self.update_num+=1\n",
    "        \n",
    "        self.df = df\n",
    "        \n",
    "dash = dashboard_route(lon, lat, \n",
    "                       ship_speed=speed, square_radius=R, square_theta=theta, \n",
    "                       square_center=center_loc, time_waiting=time_waiting/60,\n",
    "                      )\n",
    "dash.grid"
   ]
  },
  {
   "cell_type": "code",
   "execution_count": 21,
   "id": "5c3e12f3-55b5-4c58-aaf0-3db58fae7735",
   "metadata": {},
   "outputs": [
    {
     "data": {
      "image/png": "[encoded data removed]",
      "text/plain": [
       "<Figure size 720x720 with 1 Axes>"
      ]
     },
     "metadata": {
      "needs_background": "light"
     },
     "output_type": "display_data"
    }
   ],
   "source": [
    "ins.plot_deployments_route(dash.lon_vertices, dash.lat_vertices, dash.df, bathy=False, land=dict(scale=\"10m\"), coast_resolution=None)"
   ]
  },
  {
   "cell_type": "markdown",
   "id": "03e2c814-7e1c-461b-aa07-18e655e93765",
   "metadata": {},
   "source": [
    "---\n",
    "## load drifter data\n",
    "\n",
    "😹🧑🏽‍🦰🧑🏽‍🦰😸👺👺😍😍😌😍🥰🥰🥰🥰🥰🥰🥰🥰🥰🥰🥰🥰😒😒😒😫😫😫😫😫😫😩😩😩😩😩😩😩😫😫😫😫😫😫😫😫😫😫😫🥵😬😬😬🙄🙄🙄🙄🙄😬😑😐🥶🥶🥶🥶🥶🥶🥶🥶😱😱😱😱🥵🥵🥶🥵🥵🥵🥵🥵🥵🥵🤮🥴🥴🤧🤧👶👶👶👶👥👥\n",
    "\n",
    "🥶🥶🥶😚c😚😚😋🥅🥅🥅🥅🥊🥊🥊🥊🥊🥊🥊🥊🛷🛷🛷🛷🛷🛷🪂🪂🪂🪂🪂🪂🪂🥋🥋🥋🥋🥋🥋🥋🥋🥋🥋🥋🥋🥋🥋🥋🥋🎽🥋🥋🥋🥋🥋🥋🥋🥋🥋🥋🥋⛷⛷⛷⛷⛷⛷⛷⛷⛷⛷⛷⛷⛷⛷⛷⛷⛷⛷m🎿🎿🎿🎿🎿🎿🎿🎿🎿🎿🎿🎿⛷⛷⛷⛷⛷⛷🛹🛹🛹🛹🛹🛹🤸🤸🤸🤸🤸🤸🤸🤸🤸🤸🤸🤸⛹️‍♂️⛹️‍♂️⛹🏻‍♀️⛹️‍♂️🤺🤺🤺\n"
   ]
  },
  {
   "cell_type": "code",
   "execution_count": 12,
   "id": "df59ce1d-fdcf-4ab0-8be4-c8723b763a65",
   "metadata": {},
   "outputs": [],
   "source": [
    "#ins.fetch_drifter_data()"
   ]
  },
  {
   "cell_type": "code",
   "execution_count": 13,
   "id": "7e7bb073",
   "metadata": {},
   "outputs": [],
   "source": [
    "dr = ins.load_drifter_data()\n",
    "dr_now = ins.extrapolate(dr)"
   ]
  },
  {
   "cell_type": "code",
   "execution_count": 14,
   "id": "713943a3-ae5c-4f9f-871e-8f144ec55b6b",
   "metadata": {},
   "outputs": [],
   "source": [
    "anchor = \"0-4351896\"\n",
    "#..."
   ]
  },
  {
   "cell_type": "markdown",
   "id": "2ed66bdd-da06-4537-84d4-5688803b9034",
   "metadata": {},
   "source": [
    "---\n",
    "### monitoring"
   ]
  },
  {
   "cell_type": "code",
   "execution_count": 15,
   "id": "787f63d3-5615-455a-93a0-9e2d3790e824",
   "metadata": {},
   "outputs": [],
   "source": [
    "%matplotlib inline"
   ]
  },
  {
   "cell_type": "code",
   "execution_count": null,
   "id": "3ea48498-ba35-4afc-9fd8-1b032a0f66c3",
   "metadata": {},
   "outputs": [],
   "source": [
    "ins.monitor_drifters(refresh_time=5/60)"
   ]
  },
  {
   "cell_type": "code",
   "execution_count": null,
   "id": "d964115d-c1d6-443d-8b45-465aa55852a6",
   "metadata": {},
   "outputs": [],
   "source": []
  },
  {
   "cell_type": "markdown",
   "id": "738e07c0-c188-43cb-8651-0f13d47d17e7",
   "metadata": {},
   "source": [
    "---\n",
    "## ship tools: manual logging"
   ]
  },
  {
   "cell_type": "code",
   "execution_count": 16,
   "id": "fe72daf9-b4a1-4561-8cb6-da409475e2a3",
   "metadata": {},
   "outputs": [],
   "source": [
    "devices = list(dr)"
   ]
  },
  {
   "cell_type": "code",
   "execution_count": 17,
   "id": "36883331-516e-4ee8-be5c-699cf2342299",
   "metadata": {},
   "outputs": [],
   "source": [
    "#import ipywidgets as widgets\n",
    "#import datetime\n",
    "\n",
    "#from ipywidgets import GridspecLayout\n",
    "#from ipywidgets import Button, Layout, jslink, IntText, IntSlider\n",
    "\n",
    "#def create_expanded_button(description, button_style):\n",
    "#    return Button(description=description, button_style=button_style, layout=Layout(height='auto', width='auto'))\n"
   ]
  },
  {
   "cell_type": "code",
   "execution_count": null,
   "id": "7ea23497-ddb2-47e0-9919-67cd90fbbed6",
   "metadata": {},
   "outputs": [],
   "source": []
  },
  {
   "cell_type": "code",
   "execution_count": 18,
   "id": "e5774432-011f-49f4-bf5b-a1c38497ac6f",
   "metadata": {},
   "outputs": [
    {
     "data": {
      "application/vnd.jupyter.widget-view+json": {
       "model_id": "3553d776c4eb44ad951efa4d1cb92f02",
       "version_major": 2,
       "version_minor": 0
      },
      "text/plain": [
       "GridspecLayout(children=(Dropdown(description='Device:', layout=Layout(grid_area='widget001'), options=(), val…"
      ]
     },
     "metadata": {},
     "output_type": "display_data"
    }
   ],
   "source": [
    "\n",
    "d = ins.dashboard()\n",
    "d.grid\n",
    "\n",
    "#"
   ]
  },
  {
   "cell_type": "code",
   "execution_count": null,
   "id": "923c6bfe-c024-43ac-9563-6229a51eba75",
   "metadata": {},
   "outputs": [],
   "source": []
  },
  {
   "cell_type": "code",
   "execution_count": null,
   "id": "bafb4219-e54f-4889-9113-f12c1b89358c",
   "metadata": {},
   "outputs": [],
   "source": []
  },
  {
   "cell_type": "code",
   "execution_count": 157,
   "id": "7e514218-6d69-43d4-ae7a-3df98afd6daf",
   "metadata": {},
   "outputs": [],
   "source": []
  },
  {
   "cell_type": "markdown",
   "id": "719b21bf-dd66-45e4-9d46-ea0a2b8540c1",
   "metadata": {},
   "source": [
    "---"
   ]
  },
  {
   "cell_type": "code",
   "execution_count": null,
   "id": "8ce995bc",
   "metadata": {},
   "outputs": [],
   "source": []
  },
  {
   "cell_type": "code",
   "execution_count": null,
   "id": "6e61e3c5-2e14-4f2f-a40c-8bd356fbf143",
   "metadata": {},
   "outputs": [],
   "source": [
    "\n",
    "class dashboard_speed(object):\n",
    "    \n",
    "    def __init__(self):\n",
    "        #\n",
    "        self.build_dashboard()\n",
    "        self.update() # time\n",
    "\n",
    "    def build_dashboard(self):\n",
    "        \n",
    "        w = dict()\n",
    "\n",
    "        w[\"button\"] = widgets.Button(\n",
    "            description='Compute',\n",
    "            disabled=False,\n",
    "            button_style='', # 'success', 'info', 'warning', 'danger' or ''\n",
    "            tooltip='Click me',\n",
    "            icon='check' # (FontAwesome names without the `fa-` prefix)\n",
    "        )\n",
    "        w[\"button\"].on_click(self.compute)\n",
    "\n",
    "        w[\"end_hour\"] = widgets.Dropdown(\n",
    "            options=np.arange(24),\n",
    "            description='End - hour:',\n",
    "            disabled=False,\n",
    "        )\n",
    "\n",
    "        w[\"end_minute\"] = widgets.Dropdown(\n",
    "            options=np.arange(60),\n",
    "            description='End - minute:',\n",
    "            disabled=False,\n",
    "        )\n",
    "\n",
    "        w[\"end_second\"] = widgets.Dropdown(\n",
    "            options=np.arange(60),\n",
    "            description='End - second:',\n",
    "            disabled=False,\n",
    "        )\n",
    "\n",
    "        w[\"end_lon_deg\"] = widgets.Dropdown(\n",
    "            options=[\"0W\"], # to be generalized\n",
    "            value=\"0W\",\n",
    "            description='End - lon [deg]:',\n",
    "            disabled=False,\n",
    "        )\n",
    "\n",
    "        w[\"end_lon_min\"] = widgets.Dropdown(\n",
    "            options=np.arange(60),\n",
    "            value=15,\n",
    "            description='End - lon - [min]:',\n",
    "            disabled=False,\n",
    "        )\n",
    "\n",
    "        w[\"end_lon_sec\"] = widgets.FloatSlider(\n",
    "            value=0.,\n",
    "            min=0,\n",
    "            max=60.0,\n",
    "            step=0.1, # 0.1 sec = 2m\n",
    "            description='End - lon [sec]:',\n",
    "            disabled=False,\n",
    "            continuous_update=False,\n",
    "            orientation='horizontal',\n",
    "            readout=True,\n",
    "            readout_format='.1f',\n",
    "        )\n",
    "\n",
    "        #w[\"end_lat_deg\"] = widgets.Dropdown(\n",
    "        #    options=[\"49N\"], # to be generalized\n",
    "        #    value=\"49N\",\n",
    "        #    description='End - lat [deg]:',\n",
    "        #    disabled=False,\n",
    "        #)\n",
    "\n",
    "        w[\"end_lat_min\"] = widgets.Dropdown(\n",
    "            options=np.arange(60),\n",
    "            value=19,\n",
    "            description='End - lat [min]:',\n",
    "            disabled=False,\n",
    "        )\n",
    "\n",
    "        w[\"end_lat_sec\"] = widgets.FloatSlider(\n",
    "            value=0.,\n",
    "            min=0,\n",
    "            max=60.0,\n",
    "            step=0.1, # 0.1 sec = 2m\n",
    "            description='End - lat [sec]:',\n",
    "            disabled=False,\n",
    "            continuous_update=False,\n",
    "            orientation='horizontal',\n",
    "            readout=True,\n",
    "            readout_format='.1f',\n",
    "        )\n",
    "\n",
    "        #\n",
    "        grid = widgets.GridspecLayout(4, 3, height='200px', align_items=\"center\")\n",
    "\n",
    "        #grid[0, 0] = w[\"device\"]\n",
    "        grid[0, 1] = w[\"button\"]\n",
    "\n",
    "        #\n",
    "        #grid[0, 2] = w[\"date\"]\n",
    "        grid[1, 2] = w[\"hour\"]\n",
    "        grid[2, 2] = w[\"minute\"]\n",
    "        #grid[3, 2] = w[\"second\"]\n",
    "\n",
    "        #\n",
    "        #grid[1, 0] = w[\"lon_deg\"]\n",
    "        grid[2, 0] = w[\"lon_min\"]\n",
    "        #grid[3, 0] = w[\"lon_sec\"]\n",
    "\n",
    "        #\n",
    "        #grid[1, 1] = w[\"lat_deg\"]\n",
    "        grid[2, 1] = w[\"lat_min\"]\n",
    "        #grid[3, 1] = w[\"lat_sec\"]\n",
    "\n",
    "        # store\n",
    "        self.grid = grid\n",
    "        self.w = w\n",
    "        \n",
    "    def update(self):\n",
    "        _now = datetime.utcnow()\n",
    "        self.w[\"date\"].value = _now\n",
    "        self.w[\"hour\"].value = _now.hour\n",
    "        self.w[\"minute\"].value = _now.minute\n",
    "        self.w[\"second\"].value = _now.second\n",
    "                \n",
    "    def register(self, button):\n",
    "        w = self.w\n",
    "        #\n",
    "        date = w[\"date\"].value\n",
    "        time = pd.Timestamp(year=date.year, month=date.month, day=date.day,\n",
    "                            hour=w[\"hour\"].value, minute=w[\"minute\"].value, second=w[\"second\"].value,\n",
    "                           )\n",
    "        #\n",
    "        lond = w[\"lon_deg\"].value\n",
    "        lon = float(lond[:-1])\n",
    "        if lond[-1]==\"W\":\n",
    "            sign = -1\n",
    "        else:\n",
    "            sign = 1\n",
    "        lon = sign * (lon + w[\"lon_min\"].value/60 + w[\"lon_sec\"].value/3600)\n",
    "        #\n",
    "        latd = w[\"lat_deg\"].value\n",
    "        lat = float(latd[:-1])\n",
    "        if latd[-1]==\"N\":\n",
    "            sign = 1\n",
    "        else:\n",
    "            sign = -1\n",
    "        lat = sign * (lat + w[\"lat_min\"].value/60 + w[\"lat_sec\"].value/3600)\n",
    "        #\n",
    "        s = pd.Series(dict(device=w[\"device\"].value,\n",
    "                           time=time,\n",
    "                           lon=lon,\n",
    "                           lat=lat,\n",
    "                          )\n",
    "                     )\n",
    "        # store\n",
    "        (s.to_frame().T\n",
    "         .rename_axis('event')\n",
    "         .to_csv(self.log, mode='a', header=not os.path.exists(self.log))\n",
    "        )\n",
    "        \n",
    "    def load_log(self):\n",
    "        \"\"\"load log file\"\"\"\n",
    "        df = pd.read_csv(d.log, parse_dates=[\"time\"])\n",
    "        return df"
   ]
  }
 ],
 "metadata": {
  "kernelspec": {
   "display_name": "Python 3 (ipykernel)",
   "language": "python",
   "name": "python3"
  },
  "language_info": {
   "codemirror_mode": {
    "name": "ipython",
    "version": 3
   },
   "file_extension": ".py",
   "mimetype": "text/x-python",
   "name": "python",
   "nbconvert_exporter": "python",
   "pygments_lexer": "ipython3",
   "version": "3.8.8"
  }
 },
 "nbformat": 4,
 "nbformat_minor": 5
}
