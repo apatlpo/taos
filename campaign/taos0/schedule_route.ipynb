{
 "cells": [
  {
   "cell_type": "markdown",
   "id": "e0cdff58",
   "metadata": {},
   "source": [
    "# TAOS drifter deployments: schedule route for drifter deployments\n"
   ]
  },
  {
   "cell_type": "code",
   "execution_count": 1,
   "id": "3d1159e7",
   "metadata": {},
   "outputs": [],
   "source": [
    "import os\n",
    "from glob import glob\n",
    "\n",
    "from datetime import datetime\n",
    "from time import sleep\n",
    "\n",
    "import numpy as np\n",
    "import pandas as pdMm\n",
    "import xarray as xr\n",
    "\n",
    "import matplotlib.pyplot as plt\n",
    "import pyproj\n",
    "\n",
    "import taos.utils as ut\n",
    "import taos.insitu as ins\n",
    "from taos.insitu import rad2deg, knot, lonc, latc"
   ]
  },
  {
   "cell_type": "markdown",
   "id": "749ed28c-d2be-4ca9-9665-589343183840",
   "metadata": {},
   "source": [
    "---\n",
    "\n",
    "## useful metrics"
   ]
  },
  {
   "cell_type": "code",
   "execution_count": 2,
   "id": "21f2acb6",
   "metadata": {},
   "outputs": [
    {
     "name": "stdout",
     "output_type": "stream",
     "text": [
      " lon: 1 deg = 72.44km,  0.1 deg = 7.2km,  0.01 deg = 724.4m,  0.001 deg = 72.4m\n",
      " lon: 1 deg = 72.44km,  1 min = 1207.3m,  .1 min = 120.7m,  0.01 min = 12.1m\n",
      " lon: 1 deg = 72.44km,  1 sec = 20.1m,  .1 sec = 2.0m\n",
      "-----------------------------------------------------------------\n",
      " lat: 1 deg = 111.23km,  0.1 deg = 11.1km,  0.01 deg = 1112.2m,  0.001 deg = 111.2m\n",
      " lat: 1 deg = 111.23km,  1 min = 1853.7m,  .1 min = 185.4m,  0.01 min = 18.5m\n",
      " lat: 1 deg = 111.23km,  1 sec = 30.9m,  .1 sec = 3.1m\n"
     ]
    }
   ],
   "source": [
    "ins.metrics_cheatsheet(lonc, latc)"
   ]
  },
  {
   "cell_type": "markdown",
   "id": "79e1b194",
   "metadata": {},
   "source": [
    "🐷🐷🐷🐷🐨🌼🌼🌼💐💐🌾🌖🌾😋😋👩‍🦳👩‍🦳§😄😁😁😁😀😄😄(😃😄(😚😚😗)🙃😇😇😇😇🥳🥳😏🥳🥳😏🥳😏🥳)😡😡😡😡😡😡👹👹👹👺👺👺👾👽👾😿😿😿😸😹👍🖐🏻👉🏽👀👥👥👥👥👥👥👥🧑🏽‍🦰🧑🏽‍🦰👱‍♂️👱‍♂️👱‍♂️👱‍♂️😡🤕à🤕🤕🤒😷"
   ]
  },
  {
   "cell_type": "markdown",
   "id": "1a23921f-225d-49a1-b175-e85ac327844d",
   "metadata": {},
   "source": [
    "---\n",
    "\n",
    "## deployment route resolution "
   ]
  },
  {
   "cell_type": "code",
   "execution_count": 3,
   "id": "cb2bcd22",
   "metadata": {},
   "outputs": [],
   "source": [
    "# deployment geometry\n",
    "R, theta, N = 1e3, 0/rad2deg, 5\n",
    "anchor = ins.stations.loc[\"LSTOuistreham\"]\n",
    "lon_a, lat_a = anchor[\"lon\"], anchor[\"lat\"]\n",
    "center_loc = 2\n",
    "\n",
    "# other variables\n",
    "speed = 10 # knots\n",
    "time_waiting = 5*60 # seconds\n",
    "\n",
    "lon, lat, X = ins.build_square_geo(lon_a, lat_a, R, theta, rotation=-1, center_loc=ce anter_loc)"
   ]
  },
  {
   "cell_type": "code",
   "execution_count": 4,
   "id": "984015a8-f344-4f3b-8cda-a7698f658b98",
   "metadata": {},
   "outputs": [
    {
     "data": {
      "application/vnd.jupyter.widget-view+json": {
       "model_id": "08cd6a9fdbc041f19b429f1f5409f8ec",
       "version_major": 2,
       "version_minor": 0
      },
      "text/plain": [
       "Output()"
      ]
     },
     "metadata": {},
     "output_type": "display_data"
    },
    {
     "name": "stderr",
     "output_type": "stream",
     "text": [
      "C:\\Users\\aurel\\miniconda3\\envs\\cognac\\lib\\site-packages\\scipy\\optimize\\_optimize.py:284: RuntimeWarning: Values in x were outside bounds during a minimize step, clipping to bounds\n",
      "  warnings.warn(\"Values in x were outside bounds during a \"\n"
     ]
    },
    {
     "data": {
      "application/vnd.jupyter.widget-view+json": {
       "model_id": "0dc6aa3cc1db4488b2db2944e7acc909",
       "version_major": 2,
       "version_minor": 0
      },
      "text/plain": [
       "GridspecLayout(children=(Button(description='Update', icon='check', layout=Layout(grid_area='widget001'), styl…"
      ]
     },
     "metadata": {},
     "output_type": "display_data"
    }
   ],
   "source": [
    "dash = ins.dashboard_route(lon, lat, \n",
    "                       ship_speed=speed, square_radius=R/1e3, square_theta=theta, \n",
    "                       square_center=center_loc, time_waiting=time_waiting/60,\n",
    "                      )\n",
    "dash.grid"
   ]
  },
  {
   "cell_type": "code",
   "execution_count": 5,
   "id": "fd2af615-81f7-44b7-ae06-40e167a4e01c",
   "metadata": {},
   "outputs": [
    {
     "data": {
      "image/png": "[encoded data removed]",
      "text/plain": [
       "<Figure size 720x720 with 1 Axes>"
      ]
     },
     "metadata": {
      "needs_background": "light"
     },
     "output_type": "display_data"
    }
   ],
   "source": [
    "ins.plot_deployments_route(dash.lon_vertices, dash.lat_vertices, dash.df, \n",
    "                           bathy=False, land=dict(scale=\"10m\"), coast_resolution=None,\n",
    "                           \n",
    "                          )"
   ]
  },
  {
   "cell_type": "code",
   "execution_count": null,
   "id": "2d8e93c1-f1b7-4936-b719-73682bfd13b9",
   "metadata": {},
   "outputs": [],
   "source": []
  }
 ],
 "metadata": {
  "kernelspec": {
   "display_name": "Python 3 (ipykernel)",
   "language": "python",
   "name": "python3"
  },
  "language_info": {
   "codemirror_mode": {
    "name": "ipython",
    "version": 3
   },
   "file_extension": ".py",
   "mimetype": "text/x-python",
   "name": "python",
   "nbconvert_exporter": "python",
   "pygments_lexer": "ipython3",
   "version": "3.8.13"
  }
 },
 "nbformat": 4,
 "nbformat_minor": 5
}
